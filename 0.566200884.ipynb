{
  "nbformat": 4,
  "nbformat_minor": 0,
  "metadata": {
    "colab": {
      "provenance": []
    },
    "kernelspec": {
      "name": "python3",
      "display_name": "Python 3"
    },
    "language_info": {
      "name": "python"
    }
  },
  "cells": [
    {
      "cell_type": "markdown",
      "source": [
        "# LGBM"
      ],
      "metadata": {
        "id": "88auPlbC9a3I"
      }
    },
    {
      "cell_type": "markdown",
      "source": [
        "## 라이브러리 import"
      ],
      "metadata": {
        "id": "dQPreH70lh4Q"
      }
    },
    {
      "cell_type": "code",
      "execution_count": 1,
      "metadata": {
        "colab": {
          "base_uri": "https://localhost:8080/"
        },
        "id": "h46RU-gNcEJj",
        "outputId": "a10a02f6-8679-468a-cdbe-64a159876644"
      },
      "outputs": [
        {
          "output_type": "stream",
          "name": "stdout",
          "text": [
            "Drive already mounted at /content/drive; to attempt to forcibly remount, call drive.mount(\"/content/drive\", force_remount=True).\n"
          ]
        }
      ],
      "source": [
        "from google.colab import drive\n",
        "drive.mount('/content/drive')"
      ]
    },
    {
      "cell_type": "code",
      "source": [
        "import numpy as np\n",
        "import pandas as pd\n",
        "import glob\n",
        "import random\n",
        "import os\n",
        "import matplotlib.pyplot as plt\n",
        "import seaborn as sns\n",
        "import ast\n",
        "\n",
        "import warnings\n",
        "warnings.filterwarnings('ignore')\n",
        "\n",
        "from lightgbm import LGBMClassifier\n",
        "from sklearn.model_selection import StratifiedKFold\n",
        "from sklearn.metrics import f1_score"
      ],
      "metadata": {
        "id": "eJ0BkxNkf01P"
      },
      "execution_count": 2,
      "outputs": []
    },
    {
      "cell_type": "code",
      "source": [
        "# seed 고정\n",
        "SD = 42\n",
        "random.seed(SD)\n",
        "np.random.seed(SD)\n",
        "os.environ['PYTHONHASHSEED'] = str(SD)"
      ],
      "metadata": {
        "id": "RuPZU7og9khw"
      },
      "execution_count": 3,
      "outputs": []
    },
    {
      "cell_type": "markdown",
      "source": [
        "## Data Processing"
      ],
      "metadata": {
        "id": "Kgs6iERh9CzS"
      }
    },
    {
      "cell_type": "markdown",
      "source": [
        "### 데이터 로드"
      ],
      "metadata": {
        "id": "hgziZCG__AC3"
      }
    },
    {
      "cell_type": "code",
      "source": [
        "# 파일 경로 설정\n",
        "data_dir = '/content/drive/MyDrive/ETRI/ch2025_data_items'\n",
        "\n",
        "# Parzquet 파일 전체 경로 리스트\n",
        "parquet_files = glob.glob(os.path.join(data_dir, 'ch2025_*.parquet'))"
      ],
      "metadata": {
        "id": "hOw3JzhwgWcO"
      },
      "execution_count": 4,
      "outputs": []
    },
    {
      "cell_type": "code",
      "source": [
        "# 파일 이름을 키로, DataFrame을 값으로 저장할 딕셔너리\n",
        "lifelog_data = {}\n",
        "\n",
        "# 파일별로 읽기\n",
        "for file_path in parquet_files:\n",
        "    name = os.path.basename(file_path).replace('.parquet', '').replace('ch2025_', '')\n",
        "    lifelog_data[name] = pd.read_parquet(file_path)\n",
        "    print(f\"✅ Loaded: {name}, shape = {lifelog_data[name].shape}\")"
      ],
      "metadata": {
        "colab": {
          "base_uri": "https://localhost:8080/"
        },
        "id": "hns0k9zvhGuY",
        "outputId": "912e55fc-855c-4db8-a596-2e21f5aab28e"
      },
      "execution_count": 5,
      "outputs": [
        {
          "output_type": "stream",
          "name": "stdout",
          "text": [
            "✅ Loaded: mACStatus, shape = (939896, 3)\n",
            "✅ Loaded: mActivity, shape = (961062, 3)\n",
            "✅ Loaded: mAmbience, shape = (476577, 3)\n",
            "✅ Loaded: mBle, shape = (21830, 3)\n",
            "✅ Loaded: mGps, shape = (800611, 3)\n",
            "✅ Loaded: mLight, shape = (96258, 3)\n",
            "✅ Loaded: mScreenStatus, shape = (939653, 3)\n",
            "✅ Loaded: mUsageStats, shape = (45197, 3)\n",
            "✅ Loaded: mWifi, shape = (76336, 3)\n",
            "✅ Loaded: wHr, shape = (382918, 3)\n",
            "✅ Loaded: wLight, shape = (633741, 3)\n",
            "✅ Loaded: wPedo, shape = (748100, 9)\n",
            "✅ Loaded: features, shape = (450, 29)\n"
          ]
        }
      ]
    },
    {
      "cell_type": "code",
      "source": [
        "# 딕셔너리에 있는 모든 항목을 독립적인 변수로 할당\n",
        "for key, df in lifelog_data.items():\n",
        "    globals()[f\"{key}_df\"] = df"
      ],
      "metadata": {
        "id": "Z6o6qm8ob4xC"
      },
      "execution_count": 6,
      "outputs": []
    },
    {
      "cell_type": "code",
      "source": [
        "# lifelog_date가 timestamp랑 같다\n",
        "metrics_train = pd.read_csv('/content/drive/MyDrive/ETRI/ch2025_metrics_train.csv')\n",
        "sample_submission = pd.read_csv('/content/drive/MyDrive/ETRI/ch2025_submission_sample.csv')"
      ],
      "metadata": {
        "id": "eo6L8gHpPT2n"
      },
      "execution_count": 7,
      "outputs": []
    },
    {
      "cell_type": "code",
      "source": [
        "# ✅ 기준 쌍 (subject_id, lifelog_date)\n",
        "sample_submission['lifelog_date'] = pd.to_datetime(sample_submission['lifelog_date'])\n",
        "test_keys = set(zip(sample_submission['subject_id'], sample_submission['lifelog_date'].dt.date))\n",
        "\n",
        "# ✅ DataFrame 별 timestamp 컬럼 수동 지정\n",
        "dataframes = {\n",
        "    'mACStatus': (mACStatus_df, 'timestamp'),\n",
        "    'mActivity': (mActivity_df, 'timestamp'),\n",
        "    'mAmbience': (mAmbience_df, 'timestamp'),\n",
        "    'mBle': (mBle_df, 'timestamp'),\n",
        "    'mGps': (mGps_df, 'timestamp'),\n",
        "    'mLight': (mLight_df, 'timestamp'),\n",
        "    'mScreenStatus': (mScreenStatus_df, 'timestamp'),\n",
        "    'mUsageStats': (mUsageStats_df, 'timestamp'),\n",
        "    'mWifi': (mWifi_df, 'timestamp'),\n",
        "    'wHr': (wHr_df, 'timestamp'),\n",
        "    'wLight': (wLight_df, 'timestamp'),\n",
        "    'wPedo': (wPedo_df, 'timestamp'),\n",
        "}\n",
        "\n",
        "# ✅ 분리 함수\n",
        "def split_test_train(df, subject_col='subject_id', timestamp_col='timestamp'):\n",
        "    df[timestamp_col] = pd.to_datetime(df[timestamp_col], errors='coerce')\n",
        "    df = df.dropna(subset=[timestamp_col])\n",
        "    df['date_only'] = df[timestamp_col].dt.date\n",
        "    df['key'] = list(zip(df[subject_col], df['date_only']))\n",
        "\n",
        "    test_df = df[df['key'].isin(test_keys)].drop(columns=['date_only', 'key'])\n",
        "    train_df = df[~df['key'].isin(test_keys)].drop(columns=['date_only', 'key'])\n",
        "    return test_df, train_df\n",
        "\n",
        "# ✅ 결과 저장\n",
        "for name, (df, ts_col) in dataframes.items():\n",
        "    print(f\"⏳ {name} 분리 중...\")\n",
        "    test_df, train_df = split_test_train(df.copy(), subject_col='subject_id', timestamp_col=ts_col)\n",
        "    globals()[f\"{name}_test\"] = test_df\n",
        "    globals()[f\"{name}_train\"] = train_df\n",
        "    print(f\"✅ {name}_test → {test_df.shape}, {name}_train → {train_df.shape}\")"
      ],
      "metadata": {
        "colab": {
          "base_uri": "https://localhost:8080/"
        },
        "id": "8MPug0C1VY2Z",
        "outputId": "a19f1263-d1b3-4448-accb-dc866d6be2be"
      },
      "execution_count": 8,
      "outputs": [
        {
          "output_type": "stream",
          "name": "stdout",
          "text": [
            "⏳ mACStatus 분리 중...\n",
            "✅ mACStatus_test → (335849, 3), mACStatus_train → (604047, 3)\n",
            "⏳ mActivity 분리 중...\n",
            "✅ mActivity_test → (343579, 3), mActivity_train → (617483, 3)\n",
            "⏳ mAmbience 분리 중...\n",
            "✅ mAmbience_test → (170453, 3), mAmbience_train → (306124, 3)\n",
            "⏳ mBle 분리 중...\n",
            "✅ mBle_test → (8140, 3), mBle_train → (13690, 3)\n",
            "⏳ mGps 분리 중...\n",
            "✅ mGps_test → (287386, 3), mGps_train → (513225, 3)\n",
            "⏳ mLight 분리 중...\n",
            "✅ mLight_test → (34439, 3), mLight_train → (61819, 3)\n",
            "⏳ mScreenStatus 분리 중...\n",
            "✅ mScreenStatus_test → (336160, 3), mScreenStatus_train → (603493, 3)\n",
            "⏳ mUsageStats 분리 중...\n",
            "✅ mUsageStats_test → (16499, 3), mUsageStats_train → (28698, 3)\n",
            "⏳ mWifi 분리 중...\n",
            "✅ mWifi_test → (27467, 3), mWifi_train → (48869, 3)\n",
            "⏳ wHr 분리 중...\n",
            "✅ wHr_test → (143311, 3), wHr_train → (239607, 3)\n",
            "⏳ wLight 분리 중...\n",
            "✅ wLight_test → (233809, 3), wLight_train → (399932, 3)\n",
            "⏳ wPedo 분리 중...\n",
            "✅ wPedo_test → (288832, 9), wPedo_train → (459268, 9)\n"
          ]
        }
      ]
    },
    {
      "cell_type": "markdown",
      "source": [
        "### 분단위 -> 하루 단위 def"
      ],
      "metadata": {
        "id": "ybuDtSKSuivs"
      }
    },
    {
      "cell_type": "code",
      "source": [
        "# def process_mACStatus(df):\n",
        "#     df['timestamp'] = pd.to_datetime(df['timestamp'])\n",
        "#     df['date'] = df['timestamp'].dt.date\n",
        "#     df = df.sort_values(['subject_id', 'timestamp'])\n",
        "\n",
        "#     results = []\n",
        "\n",
        "#     for (subj, date), group in df.groupby(['subject_id', 'date']):\n",
        "#         status = group['m_charging'].values  # 0/1 상태\n",
        "#         times = group['timestamp'].values\n",
        "\n",
        "#         # 충전 상태 비율\n",
        "#         ratio_charging = status.mean()\n",
        "\n",
        "#         # 상태 전이 횟수\n",
        "#         transitions = (status[1:] != status[:-1]).sum()\n",
        "\n",
        "#         # 연속된 1 상태 길이들\n",
        "#         lengths = []\n",
        "#         current_len = 0\n",
        "#         for val in status:\n",
        "#             if val == 1:\n",
        "#                 current_len += 1\n",
        "#             elif current_len > 0:\n",
        "#                 lengths.append(current_len)\n",
        "#                 current_len = 0\n",
        "#         if current_len > 0:\n",
        "#             lengths.append(current_len)\n",
        "\n",
        "#         avg_charging_duration = np.mean(lengths) if lengths else 0\n",
        "#         max_charging_duration = np.max(lengths) if lengths else 0\n",
        "\n",
        "#         results.append({\n",
        "#             'subject_id': subj,\n",
        "#             'date': date,\n",
        "#             'charging_ratio': ratio_charging,\n",
        "#             'charging_transitions': transitions,\n",
        "#             'avg_charging_duration': avg_charging_duration,\n",
        "#             'max_charging_duration': max_charging_duration,\n",
        "#         })\n",
        "\n",
        "#     return pd.DataFrame(results)\n",
        "\n",
        "# mACStatus_df2 = process_mACStatus(mACStatus_df)"
      ],
      "metadata": {
        "id": "N3dswJou4PGl"
      },
      "execution_count": 9,
      "outputs": []
    },
    {
      "cell_type": "code",
      "source": [
        "import numpy as np\n",
        "import pandas as pd\n",
        "\n",
        "def process_mACStatus(df):\n",
        "    # 1) timestamp→datetime, date 컬럼 생성, 정렬\n",
        "    df = df.copy()\n",
        "    df['timestamp'] = pd.to_datetime(df['timestamp'])\n",
        "    df['date'] = df['timestamp'].dt.date\n",
        "    df = df.sort_values(['subject_id','timestamp'])\n",
        "\n",
        "    output = []\n",
        "    for (subj, date), group in df.groupby(['subject_id','date']):\n",
        "        status = group['m_charging'].values\n",
        "        # pandas Timestamp → Python datetime 으로 변환\n",
        "        times  = group['timestamp'].dt.to_pydatetime().tolist()\n",
        "\n",
        "        # a) 충전 비율 & 전이 횟수\n",
        "        ratio     = status.mean()\n",
        "        transitions = (status[1:] != status[:-1]).sum()\n",
        "\n",
        "        # b) 충전 세션(start→end) 추출\n",
        "        sessions = []\n",
        "        in_session = False\n",
        "        for i, val in enumerate(status):\n",
        "            if val == 1 and not in_session:\n",
        "                start_time = times[i]\n",
        "                in_session = True\n",
        "            elif val == 0 and in_session:\n",
        "                end_time = times[i]\n",
        "                sessions.append((start_time, end_time))\n",
        "                in_session = False\n",
        "        # 마지막에 세션이 끝나지 않았다면\n",
        "        if in_session:\n",
        "            sessions.append((start_time, times[-1]))\n",
        "\n",
        "        # c) 세션별 지속시간(초) 계산\n",
        "        durations = [ (end-start).total_seconds() for start,end in sessions ]\n",
        "        avg_dur_s = np.mean(durations) if durations else 0\n",
        "        max_dur_s = np.max(durations) if durations else 0\n",
        "\n",
        "        # d) 세션 시작 시각(시간 단위, e.g. 14.5 = 14시30분)\n",
        "        start_hours = [ t.hour + t.minute/60.0 for t,_ in sessions ]\n",
        "        mean_start   = np.mean(start_hours) if start_hours else np.nan\n",
        "        std_start    = np.std(start_hours)  if start_hours else np.nan\n",
        "\n",
        "        # e) 세션 개수\n",
        "        session_count = len(sessions)\n",
        "\n",
        "        output.append({\n",
        "            'subject_id':              subj,\n",
        "            'date':                    date,\n",
        "            'charging_ratio':          ratio,\n",
        "            'charging_transitions':    transitions,\n",
        "            'charging_session_count':  session_count,\n",
        "            'avg_charging_duration_s': avg_dur_s,\n",
        "            'max_charging_duration_s': max_dur_s,\n",
        "            'mean_charging_start_hour':mean_start,\n",
        "            'std_charging_start_hour': std_start,\n",
        "        })\n",
        "\n",
        "    return pd.DataFrame(output)\n",
        "\n",
        "# 적용 예시\n",
        "mACStatus_df2 = process_mACStatus(mACStatus_df)\n"
      ],
      "metadata": {
        "id": "Pod2E7NqdA6Q"
      },
      "execution_count": 10,
      "outputs": []
    },
    {
      "cell_type": "code",
      "source": [
        "def process_mActivity(df):\n",
        "    df['timestamp'] = pd.to_datetime(df['timestamp'])\n",
        "    df['date'] = df['timestamp'].dt.date\n",
        "\n",
        "    summary = []\n",
        "\n",
        "    for (subj, date), group in df.groupby(['subject_id', 'date']):\n",
        "        counts = group['m_activity'].value_counts(normalize=True)  # 비율\n",
        "        row = {'subject_id': subj, 'date': date}\n",
        "\n",
        "        # 0~8 비율 저장\n",
        "        for i in range(9):\n",
        "            row[f'activity_{i}_ratio'] = counts.get(i, 0)\n",
        "\n",
        "        # 주요 활동 정보\n",
        "        row['dominant_activity'] = group['m_activity'].mode()[0]\n",
        "        row['num_unique_activities'] = group['m_activity'].nunique()\n",
        "\n",
        "        summary.append(row)\n",
        "\n",
        "    return pd.DataFrame(summary)\n",
        "\n",
        "mActivity_df2 = process_mActivity(mActivity_df)"
      ],
      "metadata": {
        "id": "ahAmyl1S6937"
      },
      "execution_count": 11,
      "outputs": []
    },
    {
      "cell_type": "code",
      "source": [
        "# import numpy as np\n",
        "# import pandas as pd\n",
        "# from scipy.stats import entropy\n",
        "\n",
        "# # 1) 시간대 블록화 헬퍼 함수\n",
        "# def get_time_block(hour: int) -> str:\n",
        "#     if 0 <= hour < 6:\n",
        "#         return 'early_morning'\n",
        "#     elif 6 <= hour < 12:\n",
        "#         return 'morning'\n",
        "#     elif 12 <= hour < 18:\n",
        "#         return 'afternoon'\n",
        "#     else:\n",
        "#         return 'evening'\n",
        "\n",
        "# def process_mActivity(df):\n",
        "#     df = df.copy()\n",
        "#     df['timestamp'] = pd.to_datetime(df['timestamp'])\n",
        "#     df['date']      = df['timestamp'].dt.date\n",
        "\n",
        "#     records = []\n",
        "#     for (subj,date), grp in df.groupby(['subject_id','date']):\n",
        "#         arr = grp['m_activity'].values\n",
        "#         counts = grp['m_activity'].value_counts(normalize=True)\n",
        "#         row = {\n",
        "#             'subject_id': subj,\n",
        "#             'date':       date\n",
        "#         }\n",
        "#         # 기본 분포\n",
        "#         for i in range(9):\n",
        "#             row[f'activity_{i}_ratio'] = counts.get(i,0.0)\n",
        "#         row['dominant_activity']     = grp['m_activity'].mode().iloc[0]\n",
        "#         row['num_unique_activities'] = grp['m_activity'].nunique()\n",
        "#         # 런 길이 통계\n",
        "#         lengths = []\n",
        "#         cur = 1\n",
        "#         for k in range(1,len(arr)):\n",
        "#             if arr[k]==arr[k-1]: cur+=1\n",
        "#             else:\n",
        "#                 lengths.append(cur)\n",
        "#                 cur=1\n",
        "#         lengths.append(cur)\n",
        "#         row['avg_activity_run_length'] = np.mean(lengths)\n",
        "#         row['max_activity_run_length'] = np.max(lengths)\n",
        "\n",
        "#         records.append(row)\n",
        "#     return pd.DataFrame(records)\n",
        "\n",
        "# # 사용 예시\n",
        "# mActivity_df2 = process_mActivity(mActivity_df)\n"
      ],
      "metadata": {
        "id": "gJnG1wF6gMIJ"
      },
      "execution_count": 12,
      "outputs": []
    },
    {
      "cell_type": "code",
      "source": [
        "# from sklearn.model_selection import GroupKFold\n",
        "# from sklearn.metrics import f1_score\n",
        "# import numpy as np\n",
        "# from lightgbm import LGBMClassifier, early_stopping, log_evaluation\n",
        "\n",
        "# # 파라미터 조정\n",
        "# tuned_params = {\n",
        "#     'n_estimators': 2000,\n",
        "#     'learning_rate': 0.1,\n",
        "#     'num_leaves': 64,\n",
        "#     'max_depth': 10,\n",
        "#     'min_data_in_leaf': 20,\n",
        "#     'feature_fraction': 1.0,\n",
        "#     'bagging_fraction': 1.0,\n",
        "#     'bagging_freq': 0,\n",
        "#     'lambda_l1': 0.0,\n",
        "#     'lambda_l2': 0.0,\n",
        "#     'objective': 'multiclass',\n",
        "#     'num_class': y.nunique(),\n",
        "#     'random_state': SD,\n",
        "#     'verbosity': -1,\n",
        "#     'metric': 'multi_logloss'\n",
        "# }\n",
        "\n",
        "# gkf = GroupKFold(n_splits=5)\n",
        "# train_scores, val_scores = [], []\n",
        "\n",
        "# for fold, (tr_idx, val_idx) in enumerate(\n",
        "#         gkf.split(X, y, groups=train_df['subject_id']), 1):\n",
        "#     X_tr, X_val = X.iloc[tr_idx], X.iloc[val_idx]\n",
        "#     y_tr, y_val = y.iloc[tr_idx], y.iloc[val_idx]\n",
        "\n",
        "#     model = LGBMClassifier(**tuned_params)\n",
        "#     model.fit(\n",
        "#         X_tr, y_tr,\n",
        "#         eval_set=[(X_val, y_val)],\n",
        "#         eval_metric='multi_logloss',\n",
        "#         callbacks=[early_stopping(stopping_rounds=100), log_evaluation(period=0)]\n",
        "#     )\n",
        "\n",
        "#     y_tr_pred  = model.predict(X_tr)\n",
        "#     y_val_pred = model.predict(X_val)\n",
        "#     train_scores.append(f1_score(y_tr, y_tr_pred, average='macro'))\n",
        "#     val_scores.append(f1_score(y_val, y_val_pred, average='macro'))\n",
        "#     print(f\"Fold {fold} — Train F1: {train_scores[-1]:.4f}, Val F1: {val_scores[-1]:.4f}\")\n",
        "\n",
        "# print(f\"\\nTrain F1: {np.mean(train_scores):.4f} ± {np.std(train_scores):.4f}\")\n",
        "# print(f\" Val  F1: {np.mean(val_scores):.4f} ± {np.std(val_scores):.4f}\")\n"
      ],
      "metadata": {
        "id": "zgKXetrTiUgT"
      },
      "execution_count": 13,
      "outputs": []
    },
    {
      "cell_type": "code",
      "source": [
        "# from sklearn.model_selection import GroupKFold\n",
        "# from sklearn.metrics import f1_score\n",
        "# import numpy as np\n",
        "# from lightgbm import LGBMClassifier, early_stopping, log_evaluation\n",
        "\n",
        "# # 0) 공통 준비\n",
        "# groups = train_df['subject_id']\n",
        "# gkf = GroupKFold(n_splits=5)\n",
        "\n",
        "# # 1) 피처군 별 컬럼 리스트\n",
        "# base_cols = [f'activity_{i}_ratio' for i in range(9)] + [\n",
        "#     'dominant_activity', 'num_unique_activities'\n",
        "# ]\n",
        "# trans_cols     = ['activity_transitions']\n",
        "# run_cols       = ['avg_activity_run_length','max_activity_run_length']\n",
        "# entropy_cols   = ['activity_entropy']\n",
        "# timeblock_cols = [\n",
        "#     'early_morning_ratio',\n",
        "#     'morning_ratio',\n",
        "#     'afternoon_ratio',\n",
        "#     'evening_ratio'\n",
        "# ]\n",
        "\n",
        "# groups_of_features = {\n",
        "#     'base':      base_cols,\n",
        "#     '＋trans':   trans_cols,\n",
        "#     '＋run':     run_cols,\n",
        "#     '＋entropy': entropy_cols,\n",
        "#     '＋time':    timeblock_cols,\n",
        "# }\n",
        "\n",
        "# def cv_score(feature_sets):\n",
        "#     cols = sum(feature_sets, [])  # 리스트 합치기\n",
        "#     X_sub = X[cols]\n",
        "#     tr, va = [], []\n",
        "#     for tr_idx, val_idx in gkf.split(X_sub, y, groups=groups):\n",
        "#         X_tr, X_val = X_sub.iloc[tr_idx], X_sub.iloc[val_idx]\n",
        "#         y_tr, y_val = y.iloc[tr_idx], y.iloc[val_idx]\n",
        "#         model = LGBMClassifier(**tuned_params)\n",
        "#         model.fit(\n",
        "#             X_tr, y_tr,\n",
        "#             eval_set=[(X_val, y_val)],\n",
        "#             callbacks=[early_stopping(stopping_rounds=100), log_evaluation(period=0)]\n",
        "#         )\n",
        "#         tr.append(f1_score(y_tr, model.predict(X_tr), average='macro'))\n",
        "#         va.append(f1_score(y_val, model.predict(X_val), average='macro'))\n",
        "#     return np.mean(tr), np.std(tr), np.mean(va), np.std(va)\n",
        "\n",
        "# # 2) 단계별 추가\n",
        "# results = {}\n",
        "# order = ['base','＋trans','＋run','＋entropy','＋time']\n",
        "# current = ['base']\n",
        "# for name in order:\n",
        "#     if name != 'base':\n",
        "#         current.append(name)\n",
        "#     feature_sets = [groups_of_features[k] for k in current]\n",
        "#     tr_mean, tr_std, va_mean, va_std = cv_score(feature_sets)\n",
        "#     results[' & '.join(current)] = (tr_mean, tr_std, va_mean, va_std)\n",
        "\n",
        "# for k,(tms,ts,vms,vs) in results.items():\n",
        "#     print(f\"{k:20s} — Train F1 {tms:.3f}±{ts:.3f}, Val F1 {vms:.3f}±{vs:.3f}\")\n"
      ],
      "metadata": {
        "id": "--q6f7QXjo1z"
      },
      "execution_count": 14,
      "outputs": []
    },
    {
      "cell_type": "code",
      "source": [
        "# 지정된 10개 라벨\n",
        "top_10_labels = [\n",
        "    \"Inside, small room\", \"Speech\", \"Silence\", \"Music\",\n",
        "    \"Narration, monologue\", \"Child speech, kid speaking\",\n",
        "    \"Conversation\", \"Speech synthesizer\", \"Shout\", \"Babbling\"\n",
        "]\n",
        "\n",
        "def process_mAmbience_top10(df):\n",
        "    df = df.copy()\n",
        "    df['timestamp'] = pd.to_datetime(df['timestamp'])\n",
        "    df['date'] = df['timestamp'].dt.date\n",
        "\n",
        "    # 초기화\n",
        "    for label in top_10_labels + ['others']:\n",
        "        df[label] = 0.0\n",
        "\n",
        "    for idx, row in df.iterrows():\n",
        "        parsed = ast.literal_eval(row['m_ambience']) if isinstance(row['m_ambience'], str) else row['m_ambience']\n",
        "        others_prob = 0.0\n",
        "\n",
        "        for label, prob in parsed:\n",
        "            prob = float(prob)\n",
        "            if label in top_10_labels:\n",
        "                df.at[idx, label] = prob\n",
        "            else:\n",
        "                others_prob += prob\n",
        "\n",
        "        df.at[idx, 'others'] = others_prob\n",
        "\n",
        "    return df.drop(columns=['m_ambience'])\n",
        "\n",
        "mAmbience_df2= process_mAmbience_top10(mAmbience_df)\n",
        "\n",
        "def summarize_mAmbience_daily(df):\n",
        "    prob_cols = [col for col in df.columns if col not in ['subject_id', 'timestamp', 'date']]\n",
        "\n",
        "    # 하루 단위로 평균값 요약\n",
        "    daily_summary = df.groupby(['subject_id', 'date'])[prob_cols].mean().reset_index()\n",
        "    return daily_summary\n",
        "\n",
        "mAmbience_df2 = summarize_mAmbience_daily(mAmbience_df2)"
      ],
      "metadata": {
        "id": "uMYc3WNwAyG0"
      },
      "execution_count": 15,
      "outputs": []
    },
    {
      "cell_type": "code",
      "source": [
        "# import numpy as np\n",
        "# import pandas as pd\n",
        "# from scipy.stats import entropy\n",
        "\n",
        "# # 재사용: 시간대 블록화 헬퍼\n",
        "# def get_time_block(hour: int) -> str:\n",
        "#     if 0 <= hour < 6:\n",
        "#         return 'early_morning'\n",
        "#     elif 6 <= hour < 12:\n",
        "#         return 'morning'\n",
        "#     elif 12 <= hour < 18:\n",
        "#         return 'afternoon'\n",
        "#     else:\n",
        "#         return 'evening'\n",
        "\n",
        "# def process_mAmbience(df: pd.DataFrame, top_n: int = 10) -> pd.DataFrame:\n",
        "#     \"\"\"\n",
        "#     mAmbience 원시 로그(df)에 대해 다음 피처를 추출합니다:\n",
        "#       1. ambience_top{N}_entropy: 상위 N개 소리 라벨 분포의 엔트로피(base-2)\n",
        "#       2. {early_morning, morning, afternoon, evening}_ambience_dom_ratio:\n",
        "#          각 시간대별 대표(최빈) 소리 라벨의 비율\n",
        "#     \"\"\"\n",
        "#     df = df.copy()\n",
        "#     df['timestamp']  = pd.to_datetime(df['timestamp'])\n",
        "#     df['date']       = df['timestamp'].dt.date\n",
        "#     df['time_block'] = df['timestamp'].dt.hour.map(get_time_block)\n",
        "\n",
        "#     records = []\n",
        "#     for (subj, date), group in df.groupby(['subject_id', 'date']):\n",
        "#         row = {'subject_id': subj, 'date': date}\n",
        "\n",
        "#         # 1) 상위 N개 라벨의 분포 엔트로피\n",
        "#         counts = group['m_ambience'].value_counts(normalize=True)\n",
        "#         top_counts = counts.iloc[:top_n].values\n",
        "#         # 만약 N개 미만 라벨이 존재하면 전체 라벨 분포로 대체\n",
        "#         if len(top_counts) < top_n:\n",
        "#             top_counts = counts.values\n",
        "#         row[f'ambience_top{top_n}_entropy'] = float(entropy(top_counts, base=2))\n",
        "\n",
        "#         # 2) 시간대별 대표 소리 라벨 비율\n",
        "#         for blk in ['early_morning', 'morning', 'afternoon', 'evening']:\n",
        "#             sub_blk = group[group['time_block'] == blk]['m_ambience']\n",
        "#             if sub_blk.empty:\n",
        "#                 dom_ratio = 0.0\n",
        "#             else:\n",
        "#                 c = sub_blk.value_counts(normalize=True)\n",
        "#                 dom_ratio = float(c.iloc[0])\n",
        "#             row[f'{blk}_ambience_dom_ratio'] = dom_ratio\n",
        "\n",
        "#         records.append(row)\n",
        "\n",
        "#     return pd.DataFrame(records)\n",
        "\n",
        "# # 적용 예시\n",
        "# mAmbience_df2 = process_mAmbience(mAmbience_df, top_n=10)\n"
      ],
      "metadata": {
        "id": "TVWfPqY6jXsF"
      },
      "execution_count": 16,
      "outputs": []
    },
    {
      "cell_type": "code",
      "source": [
        "def process_mBle(df):\n",
        "    df = df.copy()\n",
        "    df['timestamp'] = pd.to_datetime(df['timestamp'])\n",
        "    df['date'] = df['timestamp'].dt.date\n",
        "\n",
        "    features = []\n",
        "\n",
        "    for idx, row in df.iterrows():\n",
        "        entry = ast.literal_eval(row['m_ble']) if isinstance(row['m_ble'], str) else row['m_ble']\n",
        "\n",
        "        rssi_list = []\n",
        "        class_0_cnt = 0\n",
        "        class_other_cnt = 0\n",
        "\n",
        "        for device in entry:\n",
        "            try:\n",
        "                rssi = int(device['rssi'])\n",
        "                rssi_list.append(rssi)\n",
        "\n",
        "                if str(device['device_class']) == '0':\n",
        "                    class_0_cnt += 1\n",
        "                else:\n",
        "                    class_other_cnt += 1\n",
        "            except:\n",
        "                continue  # malformed record\n",
        "\n",
        "        feature = {\n",
        "            'subject_id': row['subject_id'],\n",
        "            'date': row['date'],\n",
        "            'device_class_0_cnt': class_0_cnt,\n",
        "            'device_class_others_cnt': class_other_cnt,\n",
        "            'device_count': len(rssi_list),\n",
        "            'rssi_mean': np.mean(rssi_list) if rssi_list else np.nan,\n",
        "            'rssi_min': np.min(rssi_list) if rssi_list else np.nan,\n",
        "            'rssi_max': np.max(rssi_list) if rssi_list else np.nan,\n",
        "        }\n",
        "        features.append(feature)\n",
        "\n",
        "    return pd.DataFrame(features)\n",
        "\n",
        "def summarize_mBle_daily(df):\n",
        "    # row 단위 BLE feature 추출\n",
        "    df = process_mBle(df)\n",
        "\n",
        "    # 하루 단위로 cnt 합치기\n",
        "    grouped = df.groupby(['subject_id', 'date']).agg({\n",
        "        'device_class_0_cnt': 'sum',\n",
        "        'device_class_others_cnt': 'sum',\n",
        "        'rssi_mean': 'mean',\n",
        "        'rssi_min': 'min',\n",
        "        'rssi_max': 'max',\n",
        "    }).reset_index()\n",
        "\n",
        "    # 총합 구해서 비율 계산\n",
        "    total_cnt = grouped['device_class_0_cnt'] + grouped['device_class_others_cnt']\n",
        "    grouped['device_class_0_ratio'] = grouped['device_class_0_cnt'] / total_cnt.replace(0, np.nan)\n",
        "    grouped['device_class_others_ratio'] = grouped['device_class_others_cnt'] / total_cnt.replace(0, np.nan)\n",
        "\n",
        "    # 필요 없는 원래 cnt 컬럼 제거\n",
        "    grouped.drop(columns=['device_class_0_cnt', 'device_class_others_cnt'], inplace=True)\n",
        "\n",
        "    return grouped\n",
        "\n",
        "mBle_df2 = summarize_mBle_daily(mBle_df)"
      ],
      "metadata": {
        "id": "-m7j1Yc1EDrP"
      },
      "execution_count": 17,
      "outputs": []
    },
    {
      "cell_type": "code",
      "source": [
        "def process_mGps(df):\n",
        "    df = df.copy()\n",
        "    df['timestamp'] = pd.to_datetime(df['timestamp'])\n",
        "    df['date'] = df['timestamp'].dt.date\n",
        "\n",
        "    features = []\n",
        "\n",
        "    for idx, row in df.iterrows():\n",
        "        gps_list = ast.literal_eval(row['m_gps']) if isinstance(row['m_gps'], str) else row['m_gps']\n",
        "\n",
        "        altitudes = []\n",
        "        latitudes = []\n",
        "        longitudes = []\n",
        "        speeds = []\n",
        "\n",
        "        for entry in gps_list:\n",
        "            try:\n",
        "                altitudes.append(float(entry['altitude']))\n",
        "                latitudes.append(float(entry['latitude']))\n",
        "                longitudes.append(float(entry['longitude']))\n",
        "                speeds.append(float(entry['speed']))\n",
        "            except:\n",
        "                continue\n",
        "\n",
        "        features.append({\n",
        "            'subject_id': row['subject_id'],\n",
        "            'date': row['date'],\n",
        "            'altitude_mean': np.mean(altitudes) if altitudes else np.nan,\n",
        "            'latitude_std': np.std(latitudes) if latitudes else np.nan,\n",
        "            'longitude_std': np.std(longitudes) if longitudes else np.nan,\n",
        "            'speed_mean': np.mean(speeds) if speeds else np.nan,\n",
        "            'speed_max': np.max(speeds) if speeds else np.nan,\n",
        "            'speed_std': np.std(speeds) if speeds else np.nan,\n",
        "        })\n",
        "\n",
        "    return pd.DataFrame(features)\n",
        "\n",
        "m_Gps_df2 = process_mGps(mGps_df)\n",
        "\n",
        "m_Gps_df2 = m_Gps_df2.groupby(['subject_id', 'date']).agg({\n",
        "    'altitude_mean': 'mean',\n",
        "    'latitude_std': 'mean',\n",
        "    'longitude_std': 'mean',\n",
        "    'speed_mean': 'mean',\n",
        "    'speed_max': 'max',\n",
        "    'speed_std': 'mean'\n",
        "}).reset_index()"
      ],
      "metadata": {
        "id": "oyL7ADbUNP_z"
      },
      "execution_count": 18,
      "outputs": []
    },
    {
      "cell_type": "code",
      "source": [
        "def process_mLight(df):\n",
        "    df = df.copy()\n",
        "    df['timestamp'] = pd.to_datetime(df['timestamp'])\n",
        "    df['date'] = df['timestamp'].dt.date\n",
        "    df['hour'] = df['timestamp'].dt.hour\n",
        "\n",
        "    # 밤(22~05시), 낮(06~21시) 구분\n",
        "    df['is_night'] = df['hour'].apply(lambda h: h >= 22 or h < 6)\n",
        "\n",
        "    # 하루 단위 요약\n",
        "    daily = df.groupby(['subject_id', 'date']).agg(\n",
        "        light_mean=('m_light', 'mean'),\n",
        "        light_std=('m_light', 'std'),\n",
        "        light_max=('m_light', 'max'),\n",
        "        light_min=('m_light', 'min'),\n",
        "        light_night_mean=('m_light', lambda x: x[df.loc[x.index, 'is_night']].mean()),\n",
        "        light_day_mean=('m_light', lambda x: x[~df.loc[x.index, 'is_night']].mean()),\n",
        "        light_night_ratio=('is_night', 'mean')  # 밤 시간 측정 비율\n",
        "    ).reset_index()\n",
        "\n",
        "    return daily\n",
        "\n",
        "mLight_df2 = process_mLight(mLight_df)"
      ],
      "metadata": {
        "id": "-QXkKcr7ODUi"
      },
      "execution_count": 19,
      "outputs": []
    },
    {
      "cell_type": "code",
      "source": [
        "def process_mScreenStatus(df):\n",
        "    df = df.copy()\n",
        "    df['timestamp'] = pd.to_datetime(df['timestamp'])\n",
        "    df['date'] = df['timestamp'].dt.date\n",
        "\n",
        "    features = []\n",
        "\n",
        "    for (subj, date), group in df.groupby(['subject_id', 'date']):\n",
        "        status = group['m_screen_use'].values\n",
        "        ratio_on = status.mean()\n",
        "        transitions = (status[1:] != status[:-1]).sum()\n",
        "\n",
        "        # 연속된 1 상태 길이들\n",
        "        durations = []\n",
        "        current = 0\n",
        "        for val in status:\n",
        "            if val == 1:\n",
        "                current += 1\n",
        "            elif current > 0:\n",
        "                durations.append(current)\n",
        "                current = 0\n",
        "        if current > 0:\n",
        "            durations.append(current)\n",
        "\n",
        "        features.append({\n",
        "            'subject_id': subj,\n",
        "            'date': date,\n",
        "            'screen_on_ratio': ratio_on,\n",
        "            'screen_on_transitions': transitions,\n",
        "            'screen_on_duration_avg': np.mean(durations) if durations else 0,\n",
        "            'screen_on_duration_max': np.max(durations) if durations else 0,\n",
        "        })\n",
        "\n",
        "    return pd.DataFrame(features)\n",
        "\n",
        "mScreenStatus_df2 = process_mScreenStatus(mScreenStatus_df)"
      ],
      "metadata": {
        "id": "C72VGXW3O2Gt"
      },
      "execution_count": 20,
      "outputs": []
    },
    {
      "cell_type": "code",
      "source": [
        "# import numpy as np\n",
        "# import pandas as pd\n",
        "\n",
        "# def get_time_block(hour: int) -> str:\n",
        "#     if 0 <= hour < 6:\n",
        "#         return 'early_morning'\n",
        "#     elif 6 <= hour < 12:\n",
        "#         return 'morning'\n",
        "#     elif 12 <= hour < 18:\n",
        "#         return 'afternoon'\n",
        "#     else:\n",
        "#         return 'evening'\n",
        "\n",
        "# def process_mScreenStatus(df: pd.DataFrame) -> pd.DataFrame:\n",
        "#     df = df.copy()\n",
        "#     # 1) 화면 사용 상태 컬럼 자동 탐지: 'screen' 키워드가 들어간 컬럼 중 'use'나 'status' 포함 우선\n",
        "#     cols = df.columns.str.lower().tolist()\n",
        "#     candidates = [c for c in df.columns\n",
        "#                   if 'screen' in c.lower() and ('use' in c.lower() or 'status' in c.lower())]\n",
        "#     # 없으면 'screen'만 포함된 컬럼으로\n",
        "#     if not candidates:\n",
        "#         candidates = [c for c in df.columns if 'screen' in c.lower()]\n",
        "#     if not candidates:\n",
        "#         raise KeyError(f\"No screen-use column found in {df.columns.tolist()}\")\n",
        "#     status_col = candidates[0]\n",
        "\n",
        "#     # 2) 타임스탬프, 날짜, 시간대\n",
        "#     df['timestamp']  = pd.to_datetime(df['timestamp'])\n",
        "#     df['date']       = df['timestamp'].dt.date\n",
        "#     df['time_block'] = df['timestamp'].dt.hour.map(get_time_block)\n",
        "\n",
        "#     records = []\n",
        "#     for (subj, date), group in df.groupby(['subject_id','date']):\n",
        "#         times  = group['timestamp'].dt.to_pydatetime().tolist()\n",
        "#         status = group[status_col].astype(int).values  # 1=ON(사용), 0=OFF\n",
        "\n",
        "#         # 상태 전이 비율\n",
        "#         transitions = int((status[1:] != status[:-1]).sum())\n",
        "#         transition_rate = transitions / max(len(status)-1, 1)\n",
        "\n",
        "#         # 연속 ON/OFF 지속시간(초)\n",
        "#         on_durs, off_durs = [], []\n",
        "#         curr_state = status[0]\n",
        "#         start_time = times[0]\n",
        "#         for st, t in zip(status[1:], times[1:]):\n",
        "#             if st != curr_state:\n",
        "#                 dur = (t - start_time).total_seconds()\n",
        "#                 (on_durs if curr_state==1 else off_durs).append(dur)\n",
        "#                 curr_state = st\n",
        "#                 start_time = t\n",
        "#         # 마지막 런 추가\n",
        "#         last_dur = (times[-1] - start_time).total_seconds()\n",
        "#         (on_durs if curr_state==1 else off_durs).append(last_dur)\n",
        "\n",
        "#         def stats(arr):\n",
        "#             return {\n",
        "#                 'mean': np.mean(arr) if arr else 0.0,\n",
        "#                 'max':  np.max(arr) if arr else 0.0,\n",
        "#                 'std':  np.std(arr) if arr else 0.0\n",
        "#             }\n",
        "#         on_stats  = stats(on_durs)\n",
        "#         off_stats = stats(off_durs)\n",
        "\n",
        "#         # 시간대별 화면 ON 세션 수 (0→1 전이)\n",
        "#         sess_counts = {blk:0 for blk in ['early_morning','morning','afternoon','evening']}\n",
        "#         for blk, sub in group.groupby('time_block'):\n",
        "#             arr = sub[status_col].astype(int).values\n",
        "#             sess_counts[blk] = int(((arr[1:]==1) & (arr[:-1]==0)).sum())\n",
        "\n",
        "#         # 결과행 작성\n",
        "#         row = {\n",
        "#             'subject_id':         subj,\n",
        "#             'date':               date,\n",
        "#             'transition_rate':    transition_rate,\n",
        "#             'on_duration_mean':   on_stats['mean'],\n",
        "#             'on_duration_max':    on_stats['max'],\n",
        "#             'on_duration_std':    on_stats['std'],\n",
        "#             'off_duration_mean':  off_stats['mean'],\n",
        "#             'off_duration_max':   off_stats['max'],\n",
        "#             'off_duration_std':   off_stats['std'],\n",
        "#         }\n",
        "#         for blk in ['early_morning','morning','afternoon','evening']:\n",
        "#             row[f'{blk}_screen_sessions'] = sess_counts.get(blk, 0)\n",
        "\n",
        "#         records.append(row)\n",
        "\n",
        "#     return pd.DataFrame(records)\n",
        "\n",
        "# # 컬럼 확인\n",
        "# print(\"Columns in mScreenStatus_df:\", mScreenStatus_df.columns.tolist())\n",
        "\n",
        "# # 적용\n",
        "# mScreenStatus_df2 = process_mScreenStatus(mScreenStatus_df)\n"
      ],
      "metadata": {
        "id": "FSskRpRywIci"
      },
      "execution_count": 21,
      "outputs": []
    },
    {
      "cell_type": "code",
      "source": [
        "top_apps = [\n",
        "    'One UI 홈', '카카오톡', '시스템 UI', 'NAVER', '캐시워크', '성경일독Q',\n",
        "    'YouTube', '통화', '메시지', '타임스프레드', 'Instagram']\n",
        "\n",
        "def process_mUsageStats(df):\n",
        "    df = df.copy()\n",
        "    df['timestamp'] = pd.to_datetime(df['timestamp'])\n",
        "    df['date'] = df['timestamp'].dt.date\n",
        "\n",
        "    features = []\n",
        "\n",
        "    for (subj, date), group in df.groupby(['subject_id', 'date']):\n",
        "        app_time = {app: 0 for app in top_apps}\n",
        "        others_time = 0\n",
        "\n",
        "        for row in group['m_usage_stats']:\n",
        "            parsed = ast.literal_eval(row) if isinstance(row, str) else row\n",
        "            for entry in parsed:\n",
        "                app = entry.get('app_name')\n",
        "                time = entry.get('total_time', 0)\n",
        "                if app in top_apps:\n",
        "                    app_time[app] += int(time)\n",
        "                else:\n",
        "                    others_time += int(time)\n",
        "\n",
        "        feature = {\n",
        "            'subject_id': subj,\n",
        "            'date': date,\n",
        "            'others_time': others_time\n",
        "        }\n",
        "        # 각 앱별 컬럼 추가\n",
        "        feature.update({f'{app}_time': app_time[app] for app in top_apps})\n",
        "\n",
        "        features.append(feature)\n",
        "\n",
        "    return pd.DataFrame(features)\n",
        "\n",
        "mUsageStats_df2 = process_mUsageStats(mUsageStats_df)"
      ],
      "metadata": {
        "id": "bzzmA6ZYVqvR"
      },
      "execution_count": 22,
      "outputs": []
    },
    {
      "cell_type": "code",
      "source": [
        "def process_mWifi(df):\n",
        "    df = df.copy()\n",
        "    df['timestamp'] = pd.to_datetime(df['timestamp'])\n",
        "    df['date'] = df['timestamp'].dt.date\n",
        "\n",
        "    results = []\n",
        "\n",
        "    for (subj, date), group in df.groupby(['subject_id', 'date']):\n",
        "        rssi_all = []\n",
        "\n",
        "        for row in group['m_wifi']:\n",
        "            parsed = ast.literal_eval(row) if isinstance(row, str) else row\n",
        "            for ap in parsed:\n",
        "                try:\n",
        "                    rssi = int(ap['rssi'])\n",
        "                    rssi_all.append(rssi)\n",
        "                except:\n",
        "                    continue\n",
        "\n",
        "        results.append({\n",
        "            'subject_id': subj,\n",
        "            'date': date,\n",
        "            'wifi_rssi_mean': np.mean(rssi_all) if rssi_all else np.nan,\n",
        "            'wifi_rssi_min': np.min(rssi_all) if rssi_all else np.nan,\n",
        "            'wifi_rssi_max': np.max(rssi_all) if rssi_all else np.nan,\n",
        "            'wifi_detected_cnt': len(rssi_all)\n",
        "        })\n",
        "\n",
        "    return pd.DataFrame(results)\n",
        "\n",
        "mWifi_df2 = process_mWifi(mWifi_df)"
      ],
      "metadata": {
        "id": "WACOMvLUW1va"
      },
      "execution_count": 23,
      "outputs": []
    },
    {
      "cell_type": "code",
      "source": [
        "# def get_time_block(hour):\n",
        "#     if 0 <= hour < 6:\n",
        "#         return 'early_morning'\n",
        "#     elif 6 <= hour < 12:\n",
        "#         return 'morning'\n",
        "#     elif 12 <= hour < 18:\n",
        "#         return 'afternoon'\n",
        "#     else:\n",
        "#         return 'evening'\n",
        "\n",
        "# def process_wHr_by_timeblock(df):\n",
        "#     df = df.copy()\n",
        "#     df['timestamp'] = pd.to_datetime(df['timestamp'])\n",
        "#     df['date'] = df['timestamp'].dt.date\n",
        "#     df['block'] = df['timestamp'].dt.hour.map(get_time_block)\n",
        "\n",
        "#     results = []\n",
        "\n",
        "#     for (subj, date), group in df.groupby(['subject_id', 'date']):\n",
        "#         block_stats = {'subject_id': subj, 'date': date}\n",
        "\n",
        "#         for block, block_group in group.groupby('block'):\n",
        "#             hr_all = []\n",
        "#             for row in block_group['heart_rate']:\n",
        "#                 parsed = ast.literal_eval(row) if isinstance(row, str) else row\n",
        "#                 hr_all.extend([int(h) for h in parsed if h is not None])\n",
        "\n",
        "#             if not hr_all:\n",
        "#                 continue\n",
        "\n",
        "#             above_100 = [hr for hr in hr_all if hr > 100]\n",
        "#             block_stats[f'hr_{block}_mean'] = np.mean(hr_all)\n",
        "#             block_stats[f'hr_{block}_std'] = np.std(hr_all)\n",
        "#             block_stats[f'hr_{block}_max'] = np.max(hr_all)\n",
        "#             block_stats[f'hr_{block}_min'] = np.min(hr_all)\n",
        "#             block_stats[f'hr_{block}_above_100_ratio'] = len(above_100) / len(hr_all)\n",
        "\n",
        "#         results.append(block_stats)\n",
        "\n",
        "#     return pd.DataFrame(results)\n",
        "\n",
        "# wHr_df2 = process_wHr_by_timeblock(wHr_df)"
      ],
      "metadata": {
        "id": "7FBiJ4fnYLf2"
      },
      "execution_count": 24,
      "outputs": []
    },
    {
      "cell_type": "code",
      "source": [
        "import numpy as np\n",
        "import pandas as pd\n",
        "\n",
        "def get_hr_phase(hour: int) -> str:\n",
        "    if hour >= 23 or hour < 7:\n",
        "        return 'sleep'\n",
        "    elif 21 <= hour < 23:\n",
        "        return 'pre_sleep'\n",
        "    elif 9 <= hour < 18:\n",
        "        return 'rest'\n",
        "    else:\n",
        "        return 'other'\n",
        "\n",
        "def flatten_values(arr):\n",
        "    \"\"\"\n",
        "    배열 또는 스칼라 값을 하나의 1D float 리스트로 평탄화합니다.\n",
        "    \"\"\"\n",
        "    flat = []\n",
        "    for x in arr:\n",
        "        if isinstance(x, (list, tuple, np.ndarray)):\n",
        "            for v in x:\n",
        "                try:\n",
        "                    flat.append(float(v))\n",
        "                except:\n",
        "                    pass\n",
        "        else:\n",
        "            try:\n",
        "                flat.append(float(x))\n",
        "            except:\n",
        "                pass\n",
        "    return np.array(flat, dtype=float)\n",
        "\n",
        "def process_wHr_extended(df: pd.DataFrame) -> pd.DataFrame:\n",
        "    \"\"\"\n",
        "    wHr 로그(df)에서 자동으로 'heart_rate' 컬럼을 찾아 다음 피처를 추출:\n",
        "      • 전체 HRV: rmssd, sdnn\n",
        "      • max_min_diff_ratio: (max_day - min_day)/min_day\n",
        "      • phase별 HR 통계:\n",
        "        - rest_avg/min/max_hr   (09–18시)\n",
        "        - sleep_avg/min/max_hr  (23–07시)\n",
        "        - pre_sleep_avg_hr, pre_sleep_std_hr (21–23시)\n",
        "      • rest_sleep_diff_ratio: (rest_avg_hr - sleep_avg_hr)/rest_avg_hr\n",
        "      • sleep_rmssd, sleep_sdnn\n",
        "      • circadian_amplitude: max_day - sleep_min_hr\n",
        "    \"\"\"\n",
        "    df = df.copy()\n",
        "    # timestamp, hour, date, phase\n",
        "    df['timestamp'] = pd.to_datetime(df['timestamp'])\n",
        "    df = df.sort_values(['subject_id','timestamp'])\n",
        "    df['hour']  = df['timestamp'].dt.hour\n",
        "    df['date']  = df['timestamp'].dt.date\n",
        "    df['phase'] = df['hour'].map(get_hr_phase)\n",
        "\n",
        "    # heart rate 컬럼 자동 탐지\n",
        "    hr_col = None\n",
        "    for c in df.columns:\n",
        "        lc = c.lower()\n",
        "        if ('hr' in lc or 'heart' in lc) and c not in ('hour','date'):\n",
        "            hr_col = c\n",
        "            break\n",
        "    if hr_col is None:\n",
        "        raise KeyError(f\"No HR column found in {df.columns.tolist()}\")\n",
        "\n",
        "    records = []\n",
        "    for (subj, date), grp in df.groupby(['subject_id','date']):\n",
        "        # 모든 HR값 평탄화\n",
        "        hr_all = flatten_values(grp[hr_col].dropna().values)\n",
        "        rec = {'subject_id': subj, 'date': date}\n",
        "\n",
        "        # 전체 HRV\n",
        "        if hr_all.size > 1:\n",
        "            diffs = hr_all[1:] - hr_all[:-1]\n",
        "            rec['rmssd'] = float(np.sqrt(np.mean(diffs**2)))\n",
        "            rec['sdnn']  = float(np.std(hr_all))\n",
        "        else:\n",
        "            rec['rmssd'] = rec['sdnn'] = 0.0\n",
        "\n",
        "        # max-min 비율\n",
        "        if hr_all.size and hr_all.min() != 0:\n",
        "            rec['max_min_diff_ratio'] = float((hr_all.max() - hr_all.min()) / hr_all.min())\n",
        "        else:\n",
        "            rec['max_min_diff_ratio'] = 0.0\n",
        "\n",
        "        # phase별 통계\n",
        "        for phase in ['rest','sleep','pre_sleep']:\n",
        "            vals = flatten_values(grp.loc[grp['phase']==phase, hr_col].dropna().values)\n",
        "            rec[f'{phase}_avg_hr'] = float(vals.mean()) if vals.size else 0.0\n",
        "            rec[f'{phase}_min_hr'] = float(vals.min())  if vals.size else 0.0\n",
        "            rec[f'{phase}_max_hr'] = float(vals.max())  if vals.size else 0.0\n",
        "\n",
        "            if phase == 'sleep':\n",
        "                if vals.size > 1:\n",
        "                    d = vals[1:] - vals[:-1]\n",
        "                    rec['sleep_rmssd'] = float(np.sqrt(np.mean(d**2)))\n",
        "                    rec['sleep_sdnn']  = float(np.std(vals))\n",
        "                else:\n",
        "                    rec['sleep_rmssd'] = rec['sleep_sdnn'] = 0.0\n",
        "\n",
        "            if phase == 'pre_sleep':\n",
        "                rec['pre_sleep_std_hr'] = float(np.std(vals)) if vals.size > 1 else 0.0\n",
        "\n",
        "        # rest vs sleep 차이 비율\n",
        "        rest_avg  = rec['rest_avg_hr']\n",
        "        sleep_avg = rec['sleep_avg_hr']\n",
        "        rec['rest_sleep_diff_ratio'] = (\n",
        "            (rest_avg - sleep_avg) / rest_avg if rest_avg else 0.0\n",
        "        )\n",
        "\n",
        "        # 일주기 진폭\n",
        "        if hr_all.size:\n",
        "            rec['circadian_amplitude'] = float(hr_all.max() - rec['sleep_min_hr'])\n",
        "        else:\n",
        "            rec['circadian_amplitude'] = 0.0\n",
        "\n",
        "        records.append(rec)\n",
        "\n",
        "    return pd.DataFrame(records)\n",
        "\n",
        "# 사용 예시\n",
        "print(\"Available columns:\", wHr_df.columns.tolist())\n",
        "wHr_extended_df = process_wHr_extended(wHr_df)\n",
        "print(wHr_extended_df.head())\n"
      ],
      "metadata": {
        "colab": {
          "base_uri": "https://localhost:8080/"
        },
        "id": "Tl0cn0o35V-E",
        "outputId": "d9473ce7-5482-4f10-c329-e1b16f495333"
      },
      "execution_count": 25,
      "outputs": [
        {
          "output_type": "stream",
          "name": "stdout",
          "text": [
            "Available columns: ['subject_id', 'timestamp', 'heart_rate']\n",
            "  subject_id        date     rmssd       sdnn  max_min_diff_ratio  \\\n",
            "0       id01  2024-06-26  1.011763  11.871243            1.406780   \n",
            "1       id01  2024-06-27  2.344940  12.547621            1.452830   \n",
            "2       id01  2024-06-28  1.695896  12.678976            1.647059   \n",
            "3       id01  2024-06-29  8.052711  17.988091            0.942308   \n",
            "4       id01  2024-06-30  1.610169  10.119839            1.540984   \n",
            "\n",
            "   rest_avg_hr  rest_min_hr  rest_max_hr  sleep_avg_hr  sleep_min_hr  \\\n",
            "0    80.533300         59.0        142.0      0.000000           0.0   \n",
            "1    87.073282         53.0        130.0     79.423813          58.0   \n",
            "2    79.720008         51.0        135.0     88.477501          69.0   \n",
            "3    53.000000         52.0         54.0      0.000000           0.0   \n",
            "4    88.957837         61.0        155.0      0.000000           0.0   \n",
            "\n",
            "   sleep_max_hr  sleep_rmssd  sleep_sdnn  pre_sleep_avg_hr  pre_sleep_min_hr  \\\n",
            "0           0.0     0.000000    0.000000         83.203632              65.0   \n",
            "1         113.0     2.992781   11.532549          0.000000               0.0   \n",
            "2         123.0     1.197372    8.945392          0.000000               0.0   \n",
            "3           0.0     0.000000    0.000000         99.600000              98.0   \n",
            "4           0.0     0.000000    0.000000          0.000000               0.0   \n",
            "\n",
            "   pre_sleep_max_hr  pre_sleep_std_hr  rest_sleep_diff_ratio  \\\n",
            "0             121.0         12.921444               1.000000   \n",
            "1               0.0          0.000000               0.087851   \n",
            "2               0.0          0.000000              -0.109853   \n",
            "3             101.0          1.019804               1.000000   \n",
            "4               0.0          0.000000               1.000000   \n",
            "\n",
            "   circadian_amplitude  \n",
            "0                142.0  \n",
            "1                 72.0  \n",
            "2                 66.0  \n",
            "3                101.0  \n",
            "4                155.0  \n"
          ]
        }
      ]
    },
    {
      "cell_type": "code",
      "source": [
        "def get_time_block(hour):\n",
        "    if 0 <= hour < 6:\n",
        "        return 'early_morning'\n",
        "    elif 6 <= hour < 12:\n",
        "        return 'morning'\n",
        "    elif 12 <= hour < 18:\n",
        "        return 'afternoon'\n",
        "    else:\n",
        "        return 'evening'\n",
        "\n",
        "def process_wLight_by_timeblock(df):\n",
        "    df = df.copy()\n",
        "    df['timestamp'] = pd.to_datetime(df['timestamp'])\n",
        "    df['date'] = df['timestamp'].dt.date\n",
        "    df['block'] = df['timestamp'].dt.hour.map(get_time_block)\n",
        "\n",
        "    results = []\n",
        "\n",
        "    for (subj, date), group in df.groupby(['subject_id', 'date']):\n",
        "        block_stats = {'subject_id': subj, 'date': date}\n",
        "\n",
        "        for block, block_group in group.groupby('block'):\n",
        "            lux = block_group['w_light'].dropna().values\n",
        "            if len(lux) == 0:\n",
        "                continue\n",
        "\n",
        "            block_stats[f'wlight_{block}_mean'] = np.mean(lux)\n",
        "            block_stats[f'wlight_{block}_std'] = np.std(lux)\n",
        "            block_stats[f'wlight_{block}_max'] = np.max(lux)\n",
        "            block_stats[f'wlight_{block}_min'] = np.min(lux)\n",
        "\n",
        "        results.append(block_stats)\n",
        "\n",
        "    return pd.DataFrame(results)\n",
        "\n",
        "wLight_df2 = process_wLight_by_timeblock(wLight_df)"
      ],
      "metadata": {
        "id": "Gr5ClTYbZEUt"
      },
      "execution_count": 26,
      "outputs": []
    },
    {
      "cell_type": "code",
      "source": [
        "# import numpy as np\n",
        "# import pandas as pd\n",
        "\n",
        "# def process_wLight(df: pd.DataFrame) -> pd.DataFrame:\n",
        "#     \"\"\"\n",
        "#     wLight 원시 로그(df)에 대해 다음 피처를 추출합니다:\n",
        "#       • morning_avg_lux, morning_cum_lux     : 06–12시 평균·누적 조도\n",
        "#       • evening_avg_lux, evening_cum_lux     : 18–23시 평균·누적 조도\n",
        "#       • pre_sleep_avg_lux                    : 21–23시 평균 조도\n",
        "#       • sleep_mean_lux, sleep_min_lux,\n",
        "#         sleep_max_lux, sleep_std_lux         : 23–07시 조도 통계\n",
        "#       • sleep_exceed_events                  : sleep 중 lux > 10 이벤트 수\n",
        "#       • lux_amplitude                        : 낮(07–23시) 최고 – 야간(23–07시) 최저\n",
        "#       • rapid_change_events_50lux            : 연속 샘플 간 50 lux 이상 변화 횟수\n",
        "#     \"\"\"\n",
        "#     df = df.copy()\n",
        "#     df['timestamp'] = pd.to_datetime(df['timestamp'])\n",
        "#     df['hour']      = df['timestamp'].dt.hour\n",
        "#     df['date']      = df['timestamp'].dt.date\n",
        "\n",
        "#     # lux 컬럼 자동 탐지\n",
        "#     lux_cols = [c for c in df.columns if 'lux' in c.lower() or 'light' in c.lower()]\n",
        "#     if not lux_cols:\n",
        "#         raise KeyError(f\"No lux column found in {df.columns.tolist()}\")\n",
        "#     lux_col = lux_cols[0]\n",
        "\n",
        "#     records = []\n",
        "#     for (subj, date), grp in df.groupby(['subject_id', 'date']):\n",
        "#         grp_sorted = grp.sort_values('timestamp')\n",
        "#         vals_all = grp_sorted[lux_col].dropna().astype(float).values\n",
        "#         rec = {'subject_id': subj, 'date': date}\n",
        "\n",
        "#         # 1) 아침(06–12시)\n",
        "#         morn = grp_sorted[(grp_sorted['hour']>=6) & (grp_sorted['hour']<12)][lux_col].dropna().astype(float).values\n",
        "#         rec['morning_avg_lux'] = float(morn.mean()) if morn.size else 0.0\n",
        "#         rec['morning_cum_lux'] = float(morn.sum())\n",
        "\n",
        "#         # 2) 저녁(18–23시)\n",
        "#         eve = grp_sorted[(grp_sorted['hour']>=18)&(grp_sorted['hour']<23)][lux_col].dropna().astype(float).values\n",
        "#         rec['evening_avg_lux'] = float(eve.mean()) if eve.size else 0.0\n",
        "#         rec['evening_cum_lux'] = float(eve.sum())\n",
        "\n",
        "#         # 3) 취침 직전(21–23시)\n",
        "#         pre = grp_sorted[(grp_sorted['hour']>=21)&(grp_sorted['hour']<23)][lux_col].dropna().astype(float).values\n",
        "#         rec['pre_sleep_avg_lux'] = float(pre.mean()) if pre.size else 0.0\n",
        "\n",
        "#         # 4) 수면 구간(23–07시)\n",
        "#         sleep = grp_sorted[(grp_sorted['hour']>=23)|(grp_sorted['hour']<7)][lux_col].dropna().astype(float).values\n",
        "#         rec['sleep_mean_lux'] = float(sleep.mean()) if sleep.size else 0.0\n",
        "#         rec['sleep_min_lux']  = float(sleep.min())  if sleep.size else 0.0\n",
        "#         rec['sleep_max_lux']  = float(sleep.max())  if sleep.size else 0.0\n",
        "#         rec['sleep_std_lux']  = float(sleep.std())  if sleep.size else 0.0\n",
        "#         rec['sleep_exceed_events'] = int((sleep > 10).sum())\n",
        "\n",
        "#         # 5) 일주기 진폭\n",
        "#         day = grp_sorted[(grp_sorted['hour']>=7)&(grp_sorted['hour']<23)][lux_col].dropna().astype(float).values\n",
        "#         if day.size and sleep.size:\n",
        "#             rec['lux_amplitude'] = float(day.max() - sleep.min())\n",
        "#         else:\n",
        "#             rec['lux_amplitude'] = 0.0\n",
        "\n",
        "#         # 6) 급격 변화 이벤트\n",
        "#         if vals_all.size > 1:\n",
        "#             diffs = np.abs(vals_all[1:] - vals_all[:-1])\n",
        "#             rec['rapid_change_events_50lux'] = int((diffs > 50).sum())\n",
        "#         else:\n",
        "#             rec['rapid_change_events_50lux'] = 0\n",
        "\n",
        "#         records.append(rec)\n",
        "\n",
        "#     return pd.DataFrame(records)\n",
        "\n",
        "# # 사용 예시\n",
        "# print(\"Available columns:\", wLight_df.columns.tolist())\n",
        "# wLight_df2 = process_wLight(wLight_df)\n",
        "# wLight_df2.head()\n"
      ],
      "metadata": {
        "id": "VTiuxgL1J7k5"
      },
      "execution_count": 27,
      "outputs": []
    },
    {
      "cell_type": "code",
      "source": [
        "def process_wPedo(df):\n",
        "    df = df.copy()\n",
        "    df['timestamp'] = pd.to_datetime(df['timestamp'])\n",
        "    df['date'] = df['timestamp'].dt.date\n",
        "\n",
        "    summary = df.groupby(['subject_id', 'date']).agg({\n",
        "        'step': 'sum',\n",
        "        'step_frequency': 'mean',\n",
        "        'distance': 'sum',\n",
        "        'speed': ['mean', 'max'],\n",
        "        'burned_calories': 'sum'\n",
        "    }).reset_index()\n",
        "\n",
        "    # 컬럼 이름 정리\n",
        "    summary.columns = ['subject_id', 'date',\n",
        "                       'step_sum', 'step_frequency_mean',\n",
        "                       'distance_sum', 'speed_mean', 'speed_max',\n",
        "                       'burned_calories_sum']\n",
        "\n",
        "    return summary\n",
        "\n",
        "wPedo_df2 = process_wPedo(wPedo_df)"
      ],
      "metadata": {
        "id": "CPYQL1f4ZcAT"
      },
      "execution_count": 28,
      "outputs": []
    },
    {
      "cell_type": "markdown",
      "source": [
        "### df 합치기"
      ],
      "metadata": {
        "id": "6noR1u7GZ1cF"
      }
    },
    {
      "cell_type": "code",
      "source": [
        "from functools import reduce\n",
        "\n",
        "df_list = [\n",
        "    mACStatus_df2,\n",
        "    mActivity_df2,\n",
        "    mAmbience_df2,\n",
        "    mBle_df2,\n",
        "    m_Gps_df2,\n",
        "    mLight_df2,\n",
        "    mScreenStatus_df2,\n",
        "    mUsageStats_df2,\n",
        "    mWifi_df2,\n",
        "    wHr_extended_df,\n",
        "    wLight_df2,\n",
        "    wPedo_df2\n",
        "]\n",
        "\n",
        "merged_df = reduce(lambda left, right: pd.merge(left, right, on=['subject_id', 'date'], how='outer'), df_list)"
      ],
      "metadata": {
        "id": "mG4UCJMBZ5Up"
      },
      "execution_count": 29,
      "outputs": []
    },
    {
      "cell_type": "code",
      "source": [
        "# metrics_train의 lifelog_date → datetime.date 형으로 변환\n",
        "metrics_train['lifelog_date'] = pd.to_datetime(metrics_train['lifelog_date']).dt.date\n",
        "\n",
        "# merged_df의 date도 변환\n",
        "merged_df['date'] = pd.to_datetime(merged_df['date']).dt.date\n",
        "\n",
        "# 1. date 기준 정렬을 위해 metrics_train의 lifelog_date -> date로 맞추기\n",
        "metrics_train_renamed = metrics_train.rename(columns={'lifelog_date': 'date'})\n",
        "\n",
        "# 2. train_df: metrics_train과 일치하는 (subject_id, date) → 라벨 포함\n",
        "train_df = pd.merge(metrics_train_renamed, merged_df, on=['subject_id', 'date'], how='inner')\n",
        "\n",
        "# 3. test_df: metrics_train에 없는 (subject_id, date)\n",
        "merged_keys = merged_df[['subject_id', 'date']]\n",
        "train_keys = metrics_train_renamed[['subject_id', 'date']]\n",
        "test_keys = pd.merge(merged_keys, train_keys, on=['subject_id', 'date'], how='left', indicator=True)\n",
        "test_keys = test_keys[test_keys['_merge'] == 'left_only'].drop(columns=['_merge'])\n",
        "\n",
        "test_df = pd.merge(test_keys, merged_df, on=['subject_id', 'date'], how='left')"
      ],
      "metadata": {
        "id": "5Gb9JDXoZ9oM"
      },
      "execution_count": 30,
      "outputs": []
    },
    {
      "cell_type": "markdown",
      "source": [
        "## 모델링"
      ],
      "metadata": {
        "id": "zTPy9k120w6f"
      }
    },
    {
      "cell_type": "code",
      "source": [
        "# # ✅ 타겟 리스트\n",
        "# targets_binary = ['Q1', 'Q2', 'Q3', 'S2', 'S3']\n",
        "# target_multiclass = 'S1'\n",
        "\n",
        "# # ✅ feature 준비\n",
        "# X = train_df.drop(columns=['subject_id', 'sleep_date', 'date', 'Q1', 'Q2', 'Q3', 'S1', 'S2', 'S3'])\n",
        "# X.fillna(0, inplace=True)  # 결측값 처리\n",
        "\n",
        "# test_X = test_df.drop(columns=['subject_id', 'date'])\n",
        "# test_X.fillna(0, inplace=True)\n",
        "\n",
        "# # 컬럼 이름에서 특수 문자 제거/변환\n",
        "# def sanitize_column_names(df):\n",
        "#     df.columns = (\n",
        "#         df.columns\n",
        "#         .str.replace(r\"[^\\w]\", \"_\", regex=True)  # 특수문자 → _\n",
        "#         .str.replace(r\"__+\", \"_\", regex=True)    # 연속된 _ 제거\n",
        "#         .str.strip(\"_\")                          # 앞뒤 _ 제거\n",
        "#     )\n",
        "#     return df\n",
        "\n",
        "# # 모든 입력에 적용\n",
        "# X = sanitize_column_names(X)\n",
        "# test_X = sanitize_column_names(test_X)"
      ],
      "metadata": {
        "id": "NksL8xiz_3Oh"
      },
      "execution_count": 31,
      "outputs": []
    },
    {
      "cell_type": "code",
      "source": [
        "# # 결과 저장\n",
        "# binary_preds = {}\n",
        "# multiclass_pred = None\n",
        "\n",
        "# common_params = {\n",
        "#     'n_estimators': 1000,\n",
        "#     'learning_rate': 0.03,\n",
        "#     'random_state': 42,\n",
        "#     'n_jobs': -1,\n",
        "#     'verbosity': -1\n",
        "# }\n",
        "\n",
        "# # 이진 분류 학습\n",
        "# for col in targets_binary:\n",
        "#     y = train_df[col]\n",
        "#     model = LGBMClassifier(**common_params)\n",
        "#     model.fit(X, y)\n",
        "#     binary_preds[col] = model.predict(test_X)  # 🔥 확률X, 클래스 직접 예측\n",
        "\n",
        "# # 다중 분류 학습 (S1)\n",
        "# y_multi = train_df['S1']\n",
        "# model_s1 = LGBMClassifier(**common_params, objective='multiclass', num_class=3)\n",
        "# model_s1.fit(X, y_multi)\n",
        "# multiclass_pred = model_s1.predict(test_X)  # 🔥 클래스 직접 예측"
      ],
      "metadata": {
        "id": "oKpKyAngzkQ4"
      },
      "execution_count": 32,
      "outputs": []
    },
    {
      "cell_type": "code",
      "source": [
        "# # importance 출력\n",
        "# feature_importance = pd.DataFrame({\n",
        "#     'feature': X.columns,\n",
        "#     'importance': model_s1.feature_importances_\n",
        "# }).sort_values('importance', ascending=False)\n",
        "\n",
        "# # 시각화\n",
        "# plt.figure(figsize=(10, 10))\n",
        "# sns.barplot(x='importance', y='feature', data=feature_importance)\n",
        "# plt.title('Feature Importance')\n",
        "# plt.show()"
      ],
      "metadata": {
        "id": "-J3OYiyHlXjV"
      },
      "execution_count": 33,
      "outputs": []
    },
    {
      "cell_type": "code",
      "source": [
        "!pip install optuna --quiet"
      ],
      "metadata": {
        "id": "tq6cvlwFVM-u"
      },
      "execution_count": 34,
      "outputs": []
    },
    {
      "cell_type": "code",
      "source": [
        "###############-----01-----\n",
        "\n",
        "import numpy as np\n",
        "import pandas as pd\n",
        "import optuna\n",
        "from sklearn.model_selection import GroupKFold\n",
        "from sklearn.metrics import f1_score\n",
        "from lightgbm import LGBMClassifier, early_stopping, log_evaluation\n",
        "import matplotlib.pyplot as plt\n",
        "import seaborn as sns\n",
        "\n",
        "# ─────────────────────────────────────────\n",
        "# 1) 타겟 & 피처 준비\n",
        "# ─────────────────────────────────────────\n",
        "targets_binary     = ['Q1', 'Q2', 'Q3', 'S2', 'S3']\n",
        "target_multiclass  = 'S1'\n",
        "\n",
        "X = train_df.drop(columns=['subject_id','sleep_date','date'] + targets_binary + [target_multiclass])\n",
        "X.fillna(0, inplace=True)\n",
        "\n",
        "test_X = test_df.drop(columns=['subject_id','date'])\n",
        "test_X.fillna(0, inplace=True)\n",
        "\n",
        "def sanitize_column_names(df):\n",
        "    df.columns = (\n",
        "        df.columns\n",
        "          .str.replace(r\"[^\\w]\", \"_\", regex=True)\n",
        "          .str.replace(r\"__+\", \"_\", regex=True)\n",
        "          .str.strip(\"_\")\n",
        "    )\n",
        "    return df\n",
        "\n",
        "X      = sanitize_column_names(X)\n",
        "test_X = sanitize_column_names(test_X)\n",
        "\n",
        "# 그룹 정보 및 다중분류 라벨\n",
        "groups  = train_df['subject_id']\n",
        "y_multi = train_df[target_multiclass]\n",
        "\n",
        "# ─────────────────────────────────────────\n",
        "# 2) Optuna 하이퍼파라미터 탐색 (S1 다중분류)\n",
        "# ─────────────────────────────────────────\n",
        "def objective(trial):\n",
        "    params = {\n",
        "        'objective': 'multiclass',\n",
        "        'num_class': y_multi.nunique(),\n",
        "        'metric':    'multi_logloss',\n",
        "        'verbosity': -1,\n",
        "        'random_state': 42,\n",
        "        'learning_rate':    trial.suggest_loguniform('learning_rate', 1e-3, 1e-1),\n",
        "        'n_estimators':     trial.suggest_int('n_estimators', 200, 2000),\n",
        "        'num_leaves':       trial.suggest_int('num_leaves', 16, 256),\n",
        "        'max_depth':        trial.suggest_int('max_depth', 4, 16),\n",
        "        'min_child_samples':trial.suggest_int('min_child_samples', 5, 100),\n",
        "        'feature_fraction': trial.suggest_uniform('feature_fraction', 0.5, 1.0),\n",
        "        'bagging_fraction': trial.suggest_uniform('bagging_fraction', 0.5, 1.0),\n",
        "        'bagging_freq':     1,\n",
        "        'lambda_l1':        trial.suggest_loguniform('lambda_l1', 1e-8, 10.0),\n",
        "        'lambda_l2':        trial.suggest_loguniform('lambda_l2', 1e-8, 10.0),\n",
        "    }\n",
        "\n",
        "    gkf = GroupKFold(n_splits=5)\n",
        "    scores = []\n",
        "    for tr_idx, val_idx in gkf.split(X, y_multi, groups=groups):\n",
        "        X_tr, X_val = X.iloc[tr_idx], X.iloc[val_idx]\n",
        "        y_tr, y_val = y_multi.iloc[tr_idx], y_multi.iloc[val_idx]\n",
        "\n",
        "        model = LGBMClassifier(**params)\n",
        "        model.fit(\n",
        "            X_tr, y_tr,\n",
        "            eval_set=[(X_val, y_val)],\n",
        "            callbacks=[early_stopping(stopping_rounds=50), log_evaluation(period=0)]\n",
        "        )\n",
        "        preds = model.predict(X_val)\n",
        "        scores.append(f1_score(y_val, preds, average='macro'))\n",
        "    return np.mean(scores)\n",
        "\n",
        "study = optuna.create_study(direction='maximize', study_name='lgbm_s1_f1')\n",
        "study.optimize(objective, n_trials=50, timeout=60*30)\n",
        "\n",
        "print(\"Best CV F1 (S1):\", study.best_value)\n",
        "print(\"Best params (S1):\", study.best_params)\n",
        "\n",
        "# ─────────────────────────────────────────\n",
        "# 3) 최적 파라미터 적용\n",
        "# ─────────────────────────────────────────\n",
        "best_params = study.best_params.copy()\n",
        "best_params.update({\n",
        "    'objective': 'multiclass',\n",
        "    'num_class': y_multi.nunique(),\n",
        "    'metric':    'multi_logloss',\n",
        "    'verbosity': -1,\n",
        "    'random_state': 42\n",
        "})\n",
        "\n",
        "# ─────────────────────────────────────────\n",
        "# 이진 분류용 파라미터 재정의\n",
        "# ─────────────────────────────────────────\n",
        "binary_params = best_params.copy()\n",
        "\n",
        "# multiclass 전용 키 제거\n",
        "binary_params.pop('num_class', None)\n",
        "\n",
        "# 바이너리 전용 설정\n",
        "binary_params.update({\n",
        "    'objective': 'binary',\n",
        "    'metric':    'binary_logloss',\n",
        "})\n",
        "\n",
        "# ─────────────────────────────────────────\n",
        "# 4) 모델 학습 & 예측\n",
        "# ─────────────────────────────────────────\n",
        "binary_preds = {}\n",
        "for col in targets_binary:\n",
        "    y_bin = train_df[col]\n",
        "    clf = LGBMClassifier(**binary_params)\n",
        "    clf.fit(X, y_bin)\n",
        "    binary_preds[col] = clf.predict(test_X)\n",
        "\n",
        "# 다중분류 (S1)\n",
        "clf_s1 = LGBMClassifier(**best_params)\n",
        "clf_s1.fit(X, y_multi)\n",
        "multiclass_pred = clf_s1.predict(test_X)\n",
        "\n",
        "# ─────────────────────────────────────────\n",
        "# 5) 피처 중요도 시각화 (S1 기준)\n",
        "# ─────────────────────────────────────────\n",
        "feat_imp = pd.DataFrame({\n",
        "    'feature': X.columns,\n",
        "    'importance': clf_s1.feature_importances_\n",
        "}).sort_values('importance', ascending=False)\n",
        "\n",
        "plt.figure(figsize=(10, 10))\n",
        "sns.barplot(x='importance', y='feature', data=feat_imp)\n",
        "plt.title('S1 Feature Importance')\n",
        "plt.tight_layout()\n",
        "plt.show()\n"
      ],
      "metadata": {
        "colab": {
          "base_uri": "https://localhost:8080/",
          "height": 1000
        },
        "id": "6exddjPWSAZs",
        "outputId": "d5edff43-6959-4ee6-83e2-9d3d6d968356"
      },
      "execution_count": 35,
      "outputs": [
        {
          "output_type": "stream",
          "name": "stderr",
          "text": [
            "[I 2025-07-15 06:00:28,022] A new study created in memory with name: lgbm_s1_f1\n"
          ]
        },
        {
          "output_type": "stream",
          "name": "stdout",
          "text": [
            "Training until validation scores don't improve for 50 rounds\n",
            "Early stopping, best iteration is:\n",
            "[19]\tvalid_0's multi_logloss: 0.99737\n",
            "Training until validation scores don't improve for 50 rounds\n",
            "Early stopping, best iteration is:\n",
            "[174]\tvalid_0's multi_logloss: 1.11012\n",
            "Training until validation scores don't improve for 50 rounds\n",
            "Early stopping, best iteration is:\n",
            "[37]\tvalid_0's multi_logloss: 0.937289\n",
            "Training until validation scores don't improve for 50 rounds\n",
            "Early stopping, best iteration is:\n",
            "[120]\tvalid_0's multi_logloss: 1.05883\n",
            "Training until validation scores don't improve for 50 rounds\n"
          ]
        },
        {
          "output_type": "stream",
          "name": "stderr",
          "text": [
            "[I 2025-07-15 06:00:30,283] Trial 0 finished with value: 0.2432401361876378 and parameters: {'learning_rate': 0.006066912992061331, 'n_estimators': 1178, 'num_leaves': 96, 'max_depth': 13, 'min_child_samples': 29, 'feature_fraction': 0.7258580767762279, 'bagging_fraction': 0.8228154464820366, 'lambda_l1': 1.5392337097732293e-06, 'lambda_l2': 0.001391315503809194}. Best is trial 0 with value: 0.2432401361876378.\n"
          ]
        },
        {
          "output_type": "stream",
          "name": "stdout",
          "text": [
            "Early stopping, best iteration is:\n",
            "[77]\tvalid_0's multi_logloss: 1.05732\n",
            "Training until validation scores don't improve for 50 rounds\n",
            "Early stopping, best iteration is:\n",
            "[25]\tvalid_0's multi_logloss: 0.994302\n",
            "Training until validation scores don't improve for 50 rounds\n",
            "Early stopping, best iteration is:\n",
            "[129]\tvalid_0's multi_logloss: 1.11984\n",
            "Training until validation scores don't improve for 50 rounds\n",
            "Early stopping, best iteration is:\n",
            "[4]\tvalid_0's multi_logloss: 0.944075\n",
            "Training until validation scores don't improve for 50 rounds\n",
            "Early stopping, best iteration is:\n",
            "[101]\tvalid_0's multi_logloss: 1.06474\n",
            "Training until validation scores don't improve for 50 rounds\n"
          ]
        },
        {
          "output_type": "stream",
          "name": "stderr",
          "text": [
            "[I 2025-07-15 06:00:31,957] Trial 1 finished with value: 0.23330322718000202 and parameters: {'learning_rate': 0.0093288069348022, 'n_estimators': 958, 'num_leaves': 165, 'max_depth': 16, 'min_child_samples': 67, 'feature_fraction': 0.9446017537645779, 'bagging_fraction': 0.8060900710123164, 'lambda_l1': 0.00012091288546169336, 'lambda_l2': 0.00025679909372895287}. Best is trial 0 with value: 0.2432401361876378.\n"
          ]
        },
        {
          "output_type": "stream",
          "name": "stdout",
          "text": [
            "Early stopping, best iteration is:\n",
            "[59]\tvalid_0's multi_logloss: 1.05869\n",
            "Training until validation scores don't improve for 50 rounds\n",
            "Early stopping, best iteration is:\n",
            "[1]\tvalid_0's multi_logloss: 0.99797\n",
            "Training until validation scores don't improve for 50 rounds\n",
            "Early stopping, best iteration is:\n",
            "[70]\tvalid_0's multi_logloss: 1.13136\n",
            "Training until validation scores don't improve for 50 rounds\n",
            "Early stopping, best iteration is:\n",
            "[1]\tvalid_0's multi_logloss: 0.944536\n",
            "Training until validation scores don't improve for 50 rounds\n"
          ]
        },
        {
          "output_type": "stream",
          "name": "stderr",
          "text": [
            "[I 2025-07-15 06:00:32,566] Trial 2 finished with value: 0.21923945563102717 and parameters: {'learning_rate': 0.01177764627468005, 'n_estimators': 276, 'num_leaves': 61, 'max_depth': 5, 'min_child_samples': 78, 'feature_fraction': 0.6183159979637773, 'bagging_fraction': 0.60430903749533, 'lambda_l1': 0.0016120867438911444, 'lambda_l2': 0.12069861499876774}. Best is trial 0 with value: 0.2432401361876378.\n"
          ]
        },
        {
          "output_type": "stream",
          "name": "stdout",
          "text": [
            "Early stopping, best iteration is:\n",
            "[1]\tvalid_0's multi_logloss: 1.06755\n",
            "Training until validation scores don't improve for 50 rounds\n",
            "Early stopping, best iteration is:\n",
            "[54]\tvalid_0's multi_logloss: 1.06127\n",
            "Training until validation scores don't improve for 50 rounds\n",
            "Early stopping, best iteration is:\n",
            "[25]\tvalid_0's multi_logloss: 0.992876\n",
            "Training until validation scores don't improve for 50 rounds\n",
            "Early stopping, best iteration is:\n",
            "[128]\tvalid_0's multi_logloss: 1.11986\n",
            "Training until validation scores don't improve for 50 rounds\n",
            "Early stopping, best iteration is:\n",
            "[1]\tvalid_0's multi_logloss: 0.944549\n",
            "Training until validation scores don't improve for 50 rounds\n",
            "Early stopping, best iteration is:\n",
            "[46]\tvalid_0's multi_logloss: 1.06791\n",
            "Training until validation scores don't improve for 50 rounds\n"
          ]
        },
        {
          "output_type": "stream",
          "name": "stderr",
          "text": [
            "[I 2025-07-15 06:00:34,201] Trial 3 finished with value: 0.23925454139744526 and parameters: {'learning_rate': 0.010862271080540444, 'n_estimators': 367, 'num_leaves': 73, 'max_depth': 5, 'min_child_samples': 49, 'feature_fraction': 0.8532172333609022, 'bagging_fraction': 0.6945771213390513, 'lambda_l1': 4.188108327894556e-07, 'lambda_l2': 0.6794350985795314}. Best is trial 0 with value: 0.2432401361876378.\n"
          ]
        },
        {
          "output_type": "stream",
          "name": "stdout",
          "text": [
            "Early stopping, best iteration is:\n",
            "[71]\tvalid_0's multi_logloss: 1.05992\n",
            "Training until validation scores don't improve for 50 rounds\n",
            "Early stopping, best iteration is:\n",
            "[5]\tvalid_0's multi_logloss: 0.99371\n",
            "Training until validation scores don't improve for 50 rounds\n",
            "Early stopping, best iteration is:\n",
            "[11]\tvalid_0's multi_logloss: 1.13719\n",
            "Training until validation scores don't improve for 50 rounds\n",
            "Early stopping, best iteration is:\n",
            "[1]\tvalid_0's multi_logloss: 0.945648\n",
            "Training until validation scores don't improve for 50 rounds\n",
            "Early stopping, best iteration is:\n",
            "[32]\tvalid_0's multi_logloss: 1.06316\n",
            "Training until validation scores don't improve for 50 rounds\n"
          ]
        },
        {
          "output_type": "stream",
          "name": "stderr",
          "text": [
            "[I 2025-07-15 06:00:36,198] Trial 4 finished with value: 0.25574832171928363 and parameters: {'learning_rate': 0.03732878080277631, 'n_estimators': 736, 'num_leaves': 116, 'max_depth': 15, 'min_child_samples': 27, 'feature_fraction': 0.9686453630660548, 'bagging_fraction': 0.5982340287966543, 'lambda_l1': 0.1771485706059387, 'lambda_l2': 2.441241372398091e-08}. Best is trial 4 with value: 0.25574832171928363.\n"
          ]
        },
        {
          "output_type": "stream",
          "name": "stdout",
          "text": [
            "Early stopping, best iteration is:\n",
            "[25]\tvalid_0's multi_logloss: 1.03875\n",
            "Training until validation scores don't improve for 50 rounds\n",
            "Early stopping, best iteration is:\n",
            "[73]\tvalid_0's multi_logloss: 0.994137\n",
            "Training until validation scores don't improve for 50 rounds\n",
            "Early stopping, best iteration is:\n",
            "[188]\tvalid_0's multi_logloss: 1.13111\n",
            "Training until validation scores don't improve for 50 rounds\n",
            "Early stopping, best iteration is:\n",
            "[5]\tvalid_0's multi_logloss: 0.944472\n",
            "Training until validation scores don't improve for 50 rounds\n",
            "Early stopping, best iteration is:\n",
            "[1]\tvalid_0's multi_logloss: 1.06802\n",
            "Training until validation scores don't improve for 50 rounds\n"
          ]
        },
        {
          "output_type": "stream",
          "name": "stderr",
          "text": [
            "[I 2025-07-15 06:00:39,419] Trial 5 finished with value: 0.21923945563102717 and parameters: {'learning_rate': 0.0032956572522014633, 'n_estimators': 1164, 'num_leaves': 223, 'max_depth': 15, 'min_child_samples': 61, 'feature_fraction': 0.8925170203647004, 'bagging_fraction': 0.7480260991256785, 'lambda_l1': 0.047367381650441735, 'lambda_l2': 5.166597207078423e-06}. Best is trial 4 with value: 0.25574832171928363.\n"
          ]
        },
        {
          "output_type": "stream",
          "name": "stdout",
          "text": [
            "Early stopping, best iteration is:\n",
            "[87]\tvalid_0's multi_logloss: 1.06361\n",
            "Training until validation scores don't improve for 50 rounds\n",
            "Early stopping, best iteration is:\n",
            "[6]\tvalid_0's multi_logloss: 0.996987\n",
            "Training until validation scores don't improve for 50 rounds\n",
            "Early stopping, best iteration is:\n",
            "[437]\tvalid_0's multi_logloss: 1.10509\n",
            "Training until validation scores don't improve for 50 rounds\n",
            "Early stopping, best iteration is:\n",
            "[144]\tvalid_0's multi_logloss: 0.937496\n",
            "Training until validation scores don't improve for 50 rounds\n",
            "Early stopping, best iteration is:\n",
            "[112]\tvalid_0's multi_logloss: 1.06578\n",
            "Training until validation scores don't improve for 50 rounds\n"
          ]
        },
        {
          "output_type": "stream",
          "name": "stderr",
          "text": [
            "[I 2025-07-15 06:00:45,985] Trial 6 finished with value: 0.24708444075971575 and parameters: {'learning_rate': 0.0020646315331809555, 'n_estimators': 1487, 'num_leaves': 30, 'max_depth': 11, 'min_child_samples': 36, 'feature_fraction': 0.7593819992074211, 'bagging_fraction': 0.8725174504335276, 'lambda_l1': 0.024831197075634387, 'lambda_l2': 0.01998623895566413}. Best is trial 4 with value: 0.25574832171928363.\n"
          ]
        },
        {
          "output_type": "stream",
          "name": "stdout",
          "text": [
            "Early stopping, best iteration is:\n",
            "[212]\tvalid_0's multi_logloss: 1.06216\n",
            "Training until validation scores don't improve for 50 rounds\n",
            "Early stopping, best iteration is:\n",
            "[1]\tvalid_0's multi_logloss: 0.997095\n",
            "Training until validation scores don't improve for 50 rounds\n",
            "Early stopping, best iteration is:\n",
            "[172]\tvalid_0's multi_logloss: 1.12563\n",
            "Training until validation scores don't improve for 50 rounds\n",
            "Early stopping, best iteration is:\n",
            "[70]\tvalid_0's multi_logloss: 0.943496\n",
            "Training until validation scores don't improve for 50 rounds\n",
            "Early stopping, best iteration is:\n",
            "[14]\tvalid_0's multi_logloss: 1.06715\n",
            "Training until validation scores don't improve for 50 rounds\n"
          ]
        },
        {
          "output_type": "stream",
          "name": "stderr",
          "text": [
            "[I 2025-07-15 06:00:47,186] Trial 7 finished with value: 0.21923945563102717 and parameters: {'learning_rate': 0.0059279636236387115, 'n_estimators': 1812, 'num_leaves': 218, 'max_depth': 13, 'min_child_samples': 67, 'feature_fraction': 0.5836831823060186, 'bagging_fraction': 0.6823973256376428, 'lambda_l1': 1.496841452404662e-06, 'lambda_l2': 3.912854603375545e-05}. Best is trial 4 with value: 0.25574832171928363.\n"
          ]
        },
        {
          "output_type": "stream",
          "name": "stdout",
          "text": [
            "Early stopping, best iteration is:\n",
            "[71]\tvalid_0's multi_logloss: 1.06117\n",
            "Training until validation scores don't improve for 50 rounds\n",
            "Early stopping, best iteration is:\n",
            "[3]\tvalid_0's multi_logloss: 0.995363\n",
            "Training until validation scores don't improve for 50 rounds\n",
            "Early stopping, best iteration is:\n",
            "[62]\tvalid_0's multi_logloss: 1.10702\n",
            "Training until validation scores don't improve for 50 rounds\n",
            "Early stopping, best iteration is:\n",
            "[1]\tvalid_0's multi_logloss: 0.942367\n",
            "Training until validation scores don't improve for 50 rounds\n",
            "Early stopping, best iteration is:\n",
            "[26]\tvalid_0's multi_logloss: 1.06368\n",
            "Training until validation scores don't improve for 50 rounds\n"
          ]
        },
        {
          "output_type": "stream",
          "name": "stderr",
          "text": [
            "[I 2025-07-15 06:00:52,660] Trial 8 finished with value: 0.23501527281010537 and parameters: {'learning_rate': 0.016256979213955497, 'n_estimators': 1095, 'num_leaves': 52, 'max_depth': 16, 'min_child_samples': 10, 'feature_fraction': 0.8406415942286518, 'bagging_fraction': 0.7435557133204558, 'lambda_l1': 0.061491441463830156, 'lambda_l2': 0.008314478296035547}. Best is trial 4 with value: 0.25574832171928363.\n"
          ]
        },
        {
          "output_type": "stream",
          "name": "stdout",
          "text": [
            "Early stopping, best iteration is:\n",
            "[27]\tvalid_0's multi_logloss: 1.06657\n",
            "Training until validation scores don't improve for 50 rounds\n",
            "Early stopping, best iteration is:\n",
            "[4]\tvalid_0's multi_logloss: 0.985065\n",
            "Training until validation scores don't improve for 50 rounds\n",
            "Early stopping, best iteration is:\n",
            "[23]\tvalid_0's multi_logloss: 1.12202\n",
            "Training until validation scores don't improve for 50 rounds\n",
            "Early stopping, best iteration is:\n",
            "[5]\tvalid_0's multi_logloss: 0.937206\n",
            "Training until validation scores don't improve for 50 rounds\n",
            "Early stopping, best iteration is:\n",
            "[10]\tvalid_0's multi_logloss: 1.0639\n",
            "Training until validation scores don't improve for 50 rounds\n"
          ]
        },
        {
          "output_type": "stream",
          "name": "stderr",
          "text": [
            "[I 2025-07-15 06:00:53,878] Trial 9 finished with value: 0.22470488212176193 and parameters: {'learning_rate': 0.04726531865395657, 'n_estimators': 234, 'num_leaves': 155, 'max_depth': 10, 'min_child_samples': 49, 'feature_fraction': 0.9820417171128704, 'bagging_fraction': 0.5278607888026874, 'lambda_l1': 3.0316735710759705e-06, 'lambda_l2': 0.0011378006957454623}. Best is trial 4 with value: 0.25574832171928363.\n"
          ]
        },
        {
          "output_type": "stream",
          "name": "stdout",
          "text": [
            "Early stopping, best iteration is:\n",
            "[13]\tvalid_0's multi_logloss: 1.04921\n",
            "Training until validation scores don't improve for 50 rounds\n",
            "Early stopping, best iteration is:\n",
            "[1]\tvalid_0's multi_logloss: 0.994949\n",
            "Training until validation scores don't improve for 50 rounds\n",
            "Early stopping, best iteration is:\n",
            "[25]\tvalid_0's multi_logloss: 1.12284\n",
            "Training until validation scores don't improve for 50 rounds\n",
            "Early stopping, best iteration is:\n",
            "[5]\tvalid_0's multi_logloss: 0.941981\n",
            "Training until validation scores don't improve for 50 rounds\n",
            "Early stopping, best iteration is:\n",
            "[31]\tvalid_0's multi_logloss: 1.05402\n",
            "Training until validation scores don't improve for 50 rounds\n"
          ]
        },
        {
          "output_type": "stream",
          "name": "stderr",
          "text": [
            "[I 2025-07-15 06:00:55,571] Trial 10 finished with value: 0.22813059919763065 and parameters: {'learning_rate': 0.05670429006384933, 'n_estimators': 650, 'num_leaves': 116, 'max_depth': 8, 'min_child_samples': 95, 'feature_fraction': 0.5061045069643659, 'bagging_fraction': 0.9771472994250792, 'lambda_l1': 5.234500475255441, 'lambda_l2': 1.4303873997350798e-08}. Best is trial 4 with value: 0.25574832171928363.\n"
          ]
        },
        {
          "output_type": "stream",
          "name": "stdout",
          "text": [
            "Early stopping, best iteration is:\n",
            "[18]\tvalid_0's multi_logloss: 1.06075\n",
            "Training until validation scores don't improve for 50 rounds\n",
            "Early stopping, best iteration is:\n",
            "[684]\tvalid_0's multi_logloss: 0.992966\n",
            "Training until validation scores don't improve for 50 rounds\n",
            "Early stopping, best iteration is:\n",
            "[1394]\tvalid_0's multi_logloss: 1.13392\n",
            "Training until validation scores don't improve for 50 rounds\n",
            "Early stopping, best iteration is:\n",
            "[76]\tvalid_0's multi_logloss: 0.944287\n",
            "Training until validation scores don't improve for 50 rounds\n",
            "Early stopping, best iteration is:\n",
            "[33]\tvalid_0's multi_logloss: 1.068\n",
            "Training until validation scores don't improve for 50 rounds\n"
          ]
        },
        {
          "output_type": "stream",
          "name": "stderr",
          "text": [
            "[I 2025-07-15 06:01:01,657] Trial 11 finished with value: 0.24491175087029732 and parameters: {'learning_rate': 0.0010369918443623592, 'n_estimators': 1654, 'num_leaves': 19, 'max_depth': 11, 'min_child_samples': 28, 'feature_fraction': 0.7529533902926622, 'bagging_fraction': 0.9303210752004141, 'lambda_l1': 8.86625294432113, 'lambda_l2': 1.0865791691044972e-08}. Best is trial 4 with value: 0.25574832171928363.\n"
          ]
        },
        {
          "output_type": "stream",
          "name": "stdout",
          "text": [
            "Early stopping, best iteration is:\n",
            "[837]\tvalid_0's multi_logloss: 1.06436\n",
            "Training until validation scores don't improve for 50 rounds\n",
            "Early stopping, best iteration is:\n",
            "[126]\tvalid_0's multi_logloss: 0.996061\n",
            "Training until validation scores don't improve for 50 rounds\n",
            "Early stopping, best iteration is:\n",
            "[857]\tvalid_0's multi_logloss: 1.10217\n",
            "Training until validation scores don't improve for 50 rounds\n",
            "Early stopping, best iteration is:\n",
            "[278]\tvalid_0's multi_logloss: 0.9408\n",
            "Training until validation scores don't improve for 50 rounds\n",
            "Early stopping, best iteration is:\n",
            "[150]\tvalid_0's multi_logloss: 1.06669\n",
            "Training until validation scores don't improve for 50 rounds\n"
          ]
        },
        {
          "output_type": "stream",
          "name": "stderr",
          "text": [
            "[I 2025-07-15 06:01:06,317] Trial 12 finished with value: 0.2293146445881224 and parameters: {'learning_rate': 0.0010939130969650351, 'n_estimators': 1495, 'num_leaves': 181, 'max_depth': 8, 'min_child_samples': 30, 'feature_fraction': 0.7450086558804169, 'bagging_fraction': 0.8646493471731066, 'lambda_l1': 0.060182430655231954, 'lambda_l2': 9.548387277650378e-07}. Best is trial 4 with value: 0.25574832171928363.\n"
          ]
        },
        {
          "output_type": "stream",
          "name": "stdout",
          "text": [
            "Early stopping, best iteration is:\n",
            "[322]\tvalid_0's multi_logloss: 1.06423\n",
            "Training until validation scores don't improve for 50 rounds\n",
            "Early stopping, best iteration is:\n",
            "[1]\tvalid_0's multi_logloss: 0.995962\n",
            "Training until validation scores don't improve for 50 rounds\n",
            "Early stopping, best iteration is:\n",
            "[70]\tvalid_0's multi_logloss: 1.13055\n",
            "Training until validation scores don't improve for 50 rounds\n",
            "Early stopping, best iteration is:\n",
            "[73]\tvalid_0's multi_logloss: 0.937165\n",
            "Training until validation scores don't improve for 50 rounds\n"
          ]
        },
        {
          "output_type": "stream",
          "name": "stderr",
          "text": [
            "[I 2025-07-15 06:01:07,709] Trial 13 finished with value: 0.2324455625012562 and parameters: {'learning_rate': 0.029475382709868794, 'n_estimators': 730, 'num_leaves': 19, 'max_depth': 13, 'min_child_samples': 6, 'feature_fraction': 0.6813691457558234, 'bagging_fraction': 0.5257746053498511, 'lambda_l1': 0.0017533381985574247, 'lambda_l2': 9.961147805430505}. Best is trial 4 with value: 0.25574832171928363.\n"
          ]
        },
        {
          "output_type": "stream",
          "name": "stdout",
          "text": [
            "Early stopping, best iteration is:\n",
            "[34]\tvalid_0's multi_logloss: 1.05628\n",
            "Training until validation scores don't improve for 50 rounds\n",
            "Early stopping, best iteration is:\n",
            "[4]\tvalid_0's multi_logloss: 1.07427\n",
            "Training until validation scores don't improve for 50 rounds\n",
            "Early stopping, best iteration is:\n",
            "[9]\tvalid_0's multi_logloss: 0.996857\n",
            "Training until validation scores don't improve for 50 rounds\n",
            "Early stopping, best iteration is:\n",
            "[441]\tvalid_0's multi_logloss: 1.09827\n",
            "Training until validation scores don't improve for 50 rounds\n",
            "Early stopping, best iteration is:\n",
            "[195]\tvalid_0's multi_logloss: 0.937072\n",
            "Training until validation scores don't improve for 50 rounds\n",
            "Early stopping, best iteration is:\n",
            "[580]\tvalid_0's multi_logloss: 1.0528\n",
            "Training until validation scores don't improve for 50 rounds\n"
          ]
        },
        {
          "output_type": "stream",
          "name": "stderr",
          "text": [
            "[I 2025-07-15 06:01:13,240] Trial 14 finished with value: 0.2600079603531595 and parameters: {'learning_rate': 0.0022214061412524164, 'n_estimators': 1360, 'num_leaves': 119, 'max_depth': 11, 'min_child_samples': 32, 'feature_fraction': 0.7948500234113827, 'bagging_fraction': 0.901785179397437, 'lambda_l1': 1.8750232941956926e-08, 'lambda_l2': 0.026656807142687988}. Best is trial 14 with value: 0.2600079603531595.\n"
          ]
        },
        {
          "output_type": "stream",
          "name": "stdout",
          "text": [
            "Early stopping, best iteration is:\n",
            "[212]\tvalid_0's multi_logloss: 1.06127\n",
            "Training until validation scores don't improve for 50 rounds\n",
            "Early stopping, best iteration is:\n",
            "[4]\tvalid_0's multi_logloss: 0.993373\n",
            "Training until validation scores don't improve for 50 rounds\n",
            "Early stopping, best iteration is:\n",
            "[43]\tvalid_0's multi_logloss: 1.1141\n",
            "Training until validation scores don't improve for 50 rounds\n",
            "Early stopping, best iteration is:\n",
            "[3]\tvalid_0's multi_logloss: 0.938885\n",
            "Training until validation scores don't improve for 50 rounds\n",
            "Early stopping, best iteration is:\n",
            "[54]\tvalid_0's multi_logloss: 1.0661\n",
            "Training until validation scores don't improve for 50 rounds\n",
            "Early stopping, best iteration is:\n",
            "[8]\tvalid_0's multi_logloss: 1.05172\n"
          ]
        },
        {
          "output_type": "stream",
          "name": "stderr",
          "text": [
            "[I 2025-07-15 06:01:14,525] Trial 15 finished with value: 0.24790670916057916 and parameters: {'learning_rate': 0.029317356812503408, 'n_estimators': 744, 'num_leaves': 130, 'max_depth': 8, 'min_child_samples': 17, 'feature_fraction': 0.9997030434153797, 'bagging_fraction': 0.615007607243752, 'lambda_l1': 1.4151635230612068e-08, 'lambda_l2': 4.2898053624097426e-07}. Best is trial 14 with value: 0.2600079603531595.\n"
          ]
        },
        {
          "output_type": "stream",
          "name": "stdout",
          "text": [
            "Training until validation scores don't improve for 50 rounds\n",
            "Early stopping, best iteration is:\n",
            "[5]\tvalid_0's multi_logloss: 0.995054\n",
            "Training until validation scores don't improve for 50 rounds\n",
            "Early stopping, best iteration is:\n",
            "[10]\tvalid_0's multi_logloss: 1.10535\n",
            "Training until validation scores don't improve for 50 rounds\n",
            "Early stopping, best iteration is:\n",
            "[5]\tvalid_0's multi_logloss: 0.908335\n",
            "Training until validation scores don't improve for 50 rounds\n"
          ]
        },
        {
          "output_type": "stream",
          "name": "stderr",
          "text": [
            "[I 2025-07-15 06:01:15,213] Trial 16 finished with value: 0.27290281631623114 and parameters: {'learning_rate': 0.094644692184486, 'n_estimators': 1352, 'num_leaves': 101, 'max_depth': 14, 'min_child_samples': 41, 'feature_fraction': 0.8237621023147277, 'bagging_fraction': 0.9971805203233115, 'lambda_l1': 1.3015874394064223e-08, 'lambda_l2': 3.858978536709806e-05}. Best is trial 16 with value: 0.27290281631623114.\n"
          ]
        },
        {
          "output_type": "stream",
          "name": "stdout",
          "text": [
            "Early stopping, best iteration is:\n",
            "[8]\tvalid_0's multi_logloss: 1.05392\n",
            "Training until validation scores don't improve for 50 rounds\n",
            "Early stopping, best iteration is:\n",
            "[3]\tvalid_0's multi_logloss: 1.06183\n",
            "Training until validation scores don't improve for 50 rounds\n",
            "Early stopping, best iteration is:\n",
            "[179]\tvalid_0's multi_logloss: 0.988318\n",
            "Training until validation scores don't improve for 50 rounds\n",
            "Early stopping, best iteration is:\n",
            "[434]\tvalid_0's multi_logloss: 1.092\n",
            "Training until validation scores don't improve for 50 rounds\n",
            "Early stopping, best iteration is:\n",
            "[234]\tvalid_0's multi_logloss: 0.924924\n",
            "Training until validation scores don't improve for 50 rounds\n",
            "Early stopping, best iteration is:\n",
            "[246]\tvalid_0's multi_logloss: 1.05483\n",
            "Training until validation scores don't improve for 50 rounds\n"
          ]
        },
        {
          "output_type": "stream",
          "name": "stderr",
          "text": [
            "[I 2025-07-15 06:01:18,217] Trial 17 finished with value: 0.2778145309629403 and parameters: {'learning_rate': 0.002369007065322272, 'n_estimators': 1368, 'num_leaves': 89, 'max_depth': 10, 'min_child_samples': 41, 'feature_fraction': 0.8226017178205957, 'bagging_fraction': 0.9901104423048187, 'lambda_l1': 1.0134067612438588e-08, 'lambda_l2': 5.287803069859099e-05}. Best is trial 17 with value: 0.2778145309629403.\n"
          ]
        },
        {
          "output_type": "stream",
          "name": "stdout",
          "text": [
            "Early stopping, best iteration is:\n",
            "[145]\tvalid_0's multi_logloss: 1.05891\n",
            "Training until validation scores don't improve for 50 rounds\n",
            "Early stopping, best iteration is:\n",
            "[6]\tvalid_0's multi_logloss: 0.998682\n",
            "Training until validation scores don't improve for 50 rounds\n",
            "Early stopping, best iteration is:\n",
            "[12]\tvalid_0's multi_logloss: 1.06598\n",
            "Training until validation scores don't improve for 50 rounds\n",
            "Early stopping, best iteration is:\n",
            "[4]\tvalid_0's multi_logloss: 0.935538\n",
            "Training until validation scores don't improve for 50 rounds\n",
            "Early stopping, best iteration is:\n",
            "[19]\tvalid_0's multi_logloss: 1.03122\n",
            "Training until validation scores don't improve for 50 rounds\n"
          ]
        },
        {
          "output_type": "stream",
          "name": "stderr",
          "text": [
            "[I 2025-07-15 06:01:18,964] Trial 18 finished with value: 0.27257630062957194 and parameters: {'learning_rate': 0.07823526850193738, 'n_estimators': 1958, 'num_leaves': 87, 'max_depth': 9, 'min_child_samples': 42, 'feature_fraction': 0.9039956532641282, 'bagging_fraction': 0.9744209519524841, 'lambda_l1': 9.352863020568317e-08, 'lambda_l2': 1.538066907132794e-05}. Best is trial 17 with value: 0.2778145309629403.\n"
          ]
        },
        {
          "output_type": "stream",
          "name": "stdout",
          "text": [
            "Early stopping, best iteration is:\n",
            "[6]\tvalid_0's multi_logloss: 1.0679\n",
            "Training until validation scores don't improve for 50 rounds\n",
            "Early stopping, best iteration is:\n",
            "[4]\tvalid_0's multi_logloss: 0.980463\n",
            "Training until validation scores don't improve for 50 rounds\n",
            "Early stopping, best iteration is:\n",
            "[6]\tvalid_0's multi_logloss: 1.11577\n",
            "Training until validation scores don't improve for 50 rounds\n",
            "Early stopping, best iteration is:\n",
            "[10]\tvalid_0's multi_logloss: 0.931696\n",
            "Training until validation scores don't improve for 50 rounds\n"
          ]
        },
        {
          "output_type": "stream",
          "name": "stderr",
          "text": [
            "[I 2025-07-15 06:01:19,542] Trial 19 finished with value: 0.2714386914702336 and parameters: {'learning_rate': 0.09630695270818901, 'n_estimators': 1294, 'num_leaves': 199, 'max_depth': 6, 'min_child_samples': 57, 'feature_fraction': 0.8179985369116112, 'bagging_fraction': 0.9417374667820291, 'lambda_l1': 6.825546822533332e-05, 'lambda_l2': 0.0001003637328948682}. Best is trial 17 with value: 0.2778145309629403.\n"
          ]
        },
        {
          "output_type": "stream",
          "name": "stdout",
          "text": [
            "Early stopping, best iteration is:\n",
            "[22]\tvalid_0's multi_logloss: 1.02632\n",
            "Training until validation scores don't improve for 50 rounds\n",
            "Early stopping, best iteration is:\n",
            "[17]\tvalid_0's multi_logloss: 1.06021\n",
            "Training until validation scores don't improve for 50 rounds\n",
            "Early stopping, best iteration is:\n",
            "[24]\tvalid_0's multi_logloss: 0.994519\n",
            "Training until validation scores don't improve for 50 rounds\n",
            "Early stopping, best iteration is:\n",
            "[203]\tvalid_0's multi_logloss: 1.10706\n",
            "Training until validation scores don't improve for 50 rounds\n",
            "Early stopping, best iteration is:\n",
            "[1]\tvalid_0's multi_logloss: 0.944429\n",
            "Training until validation scores don't improve for 50 rounds\n",
            "Early stopping, best iteration is:\n",
            "[1]\tvalid_0's multi_logloss: 1.06854\n",
            "Training until validation scores don't improve for 50 rounds\n"
          ]
        },
        {
          "output_type": "stream",
          "name": "stderr",
          "text": [
            "[I 2025-07-15 06:01:21,522] Trial 20 finished with value: 0.24309884596952328 and parameters: {'learning_rate': 0.0039453106502776066, 'n_estimators': 1648, 'num_leaves': 145, 'max_depth': 14, 'min_child_samples': 18, 'feature_fraction': 0.6932707070076567, 'bagging_fraction': 0.8160463253341325, 'lambda_l1': 1.1861982595795611e-07, 'lambda_l2': 1.4391704195911717e-06}. Best is trial 17 with value: 0.2778145309629403.\n"
          ]
        },
        {
          "output_type": "stream",
          "name": "stdout",
          "text": [
            "Early stopping, best iteration is:\n",
            "[128]\tvalid_0's multi_logloss: 1.06365\n",
            "Training until validation scores don't improve for 50 rounds\n",
            "Early stopping, best iteration is:\n",
            "[5]\tvalid_0's multi_logloss: 0.986525\n",
            "Training until validation scores don't improve for 50 rounds\n",
            "Early stopping, best iteration is:\n",
            "[12]\tvalid_0's multi_logloss: 1.09874\n",
            "Training until validation scores don't improve for 50 rounds\n",
            "Early stopping, best iteration is:\n",
            "[11]\tvalid_0's multi_logloss: 0.908338\n",
            "Training until validation scores don't improve for 50 rounds\n",
            "Early stopping, best iteration is:\n",
            "[5]\tvalid_0's multi_logloss: 1.05882\n",
            "Training until validation scores don't improve for 50 rounds\n"
          ]
        },
        {
          "output_type": "stream",
          "name": "stderr",
          "text": [
            "[I 2025-07-15 06:01:22,277] Trial 21 finished with value: 0.27501597862366717 and parameters: {'learning_rate': 0.0879905643158035, 'n_estimators': 1915, 'num_leaves': 86, 'max_depth': 9, 'min_child_samples': 43, 'feature_fraction': 0.9166899224907035, 'bagging_fraction': 0.9910821228110559, 'lambda_l1': 7.757614621693065e-08, 'lambda_l2': 1.531392320591436e-05}. Best is trial 17 with value: 0.2778145309629403.\n"
          ]
        },
        {
          "output_type": "stream",
          "name": "stdout",
          "text": [
            "Early stopping, best iteration is:\n",
            "[6]\tvalid_0's multi_logloss: 1.06235\n",
            "Training until validation scores don't improve for 50 rounds\n",
            "Early stopping, best iteration is:\n",
            "[5]\tvalid_0's multi_logloss: 0.991596\n",
            "Training until validation scores don't improve for 50 rounds\n",
            "Early stopping, best iteration is:\n",
            "[17]\tvalid_0's multi_logloss: 1.09841\n",
            "Training until validation scores don't improve for 50 rounds\n",
            "Early stopping, best iteration is:\n",
            "[8]\tvalid_0's multi_logloss: 0.912602\n",
            "Training until validation scores don't improve for 50 rounds\n",
            "Early stopping, best iteration is:\n",
            "[9]\tvalid_0's multi_logloss: 1.04912\n"
          ]
        },
        {
          "output_type": "stream",
          "name": "stderr",
          "text": [
            "[I 2025-07-15 06:01:23,339] Trial 22 finished with value: 0.2621032591149311 and parameters: {'learning_rate': 0.06248296379237958, 'n_estimators': 1980, 'num_leaves': 256, 'max_depth': 7, 'min_child_samples': 45, 'feature_fraction': 0.8928630385181473, 'bagging_fraction': 0.9959049660436303, 'lambda_l1': 1.541964796582297e-05, 'lambda_l2': 1.6236248316003654e-07}. Best is trial 17 with value: 0.2778145309629403.\n"
          ]
        },
        {
          "output_type": "stream",
          "name": "stdout",
          "text": [
            "Training until validation scores don't improve for 50 rounds\n",
            "Early stopping, best iteration is:\n",
            "[6]\tvalid_0's multi_logloss: 1.06084\n",
            "Training until validation scores don't improve for 50 rounds\n",
            "Early stopping, best iteration is:\n",
            "[7]\tvalid_0's multi_logloss: 0.992169\n",
            "Training until validation scores don't improve for 50 rounds\n",
            "Early stopping, best iteration is:\n",
            "[65]\tvalid_0's multi_logloss: 1.09948\n",
            "Training until validation scores don't improve for 50 rounds\n",
            "Early stopping, best iteration is:\n",
            "[70]\tvalid_0's multi_logloss: 0.923494\n",
            "Training until validation scores don't improve for 50 rounds\n",
            "Early stopping, best iteration is:\n",
            "[55]\tvalid_0's multi_logloss: 1.05278\n",
            "Training until validation scores don't improve for 50 rounds\n"
          ]
        },
        {
          "output_type": "stream",
          "name": "stderr",
          "text": [
            "[I 2025-07-15 06:01:25,125] Trial 23 finished with value: 0.276888296542127 and parameters: {'learning_rate': 0.01681885977312456, 'n_estimators': 1735, 'num_leaves': 93, 'max_depth': 10, 'min_child_samples': 40, 'feature_fraction': 0.9294103627827326, 'bagging_fraction': 0.941530422786194, 'lambda_l1': 6.085789211445165e-08, 'lambda_l2': 1.670098927205757e-05}. Best is trial 17 with value: 0.2778145309629403.\n"
          ]
        },
        {
          "output_type": "stream",
          "name": "stdout",
          "text": [
            "Early stopping, best iteration is:\n",
            "[28]\tvalid_0's multi_logloss: 1.05779\n",
            "Training until validation scores don't improve for 50 rounds\n",
            "Early stopping, best iteration is:\n",
            "[12]\tvalid_0's multi_logloss: 0.987219\n",
            "Training until validation scores don't improve for 50 rounds\n",
            "Early stopping, best iteration is:\n",
            "[25]\tvalid_0's multi_logloss: 1.12466\n",
            "Training until validation scores don't improve for 50 rounds\n",
            "Early stopping, best iteration is:\n",
            "[46]\tvalid_0's multi_logloss: 0.927491\n",
            "Training until validation scores don't improve for 50 rounds\n",
            "Early stopping, best iteration is:\n",
            "[32]\tvalid_0's multi_logloss: 1.04874\n",
            "Training until validation scores don't improve for 50 rounds\n"
          ]
        },
        {
          "output_type": "stream",
          "name": "stderr",
          "text": [
            "[I 2025-07-15 06:01:26,475] Trial 24 finished with value: 0.2517156777034438 and parameters: {'learning_rate': 0.02328167009261545, 'n_estimators': 1759, 'num_leaves': 76, 'max_depth': 10, 'min_child_samples': 54, 'feature_fraction': 0.9328715970820388, 'bagging_fraction': 0.9092701818064228, 'lambda_l1': 1.1904695748406833e-07, 'lambda_l2': 5.1547197607242e-06}. Best is trial 17 with value: 0.2778145309629403.\n"
          ]
        },
        {
          "output_type": "stream",
          "name": "stdout",
          "text": [
            "Early stopping, best iteration is:\n",
            "[60]\tvalid_0's multi_logloss: 1.05374\n",
            "Training until validation scores don't improve for 50 rounds\n",
            "Early stopping, best iteration is:\n",
            "[32]\tvalid_0's multi_logloss: 0.991615\n",
            "Training until validation scores don't improve for 50 rounds\n",
            "Early stopping, best iteration is:\n",
            "[69]\tvalid_0's multi_logloss: 1.09378\n",
            "Training until validation scores don't improve for 50 rounds\n",
            "Early stopping, best iteration is:\n",
            "[25]\tvalid_0's multi_logloss: 0.927638\n",
            "Training until validation scores don't improve for 50 rounds\n"
          ]
        },
        {
          "output_type": "stream",
          "name": "stderr",
          "text": [
            "[I 2025-07-15 06:01:27,807] Trial 25 finished with value: 0.2773695992533581 and parameters: {'learning_rate': 0.015656988541092594, 'n_estimators': 1830, 'num_leaves': 45, 'max_depth': 9, 'min_child_samples': 38, 'feature_fraction': 0.8726325189439481, 'bagging_fraction': 0.9531737988151522, 'lambda_l1': 1.0562354025454206e-05, 'lambda_l2': 0.0008608272382211626}. Best is trial 17 with value: 0.2778145309629403.\n"
          ]
        },
        {
          "output_type": "stream",
          "name": "stdout",
          "text": [
            "Early stopping, best iteration is:\n",
            "[58]\tvalid_0's multi_logloss: 1.05173\n",
            "Training until validation scores don't improve for 50 rounds\n",
            "Early stopping, best iteration is:\n",
            "[28]\tvalid_0's multi_logloss: 1.05697\n",
            "Training until validation scores don't improve for 50 rounds\n",
            "Early stopping, best iteration is:\n",
            "[19]\tvalid_0's multi_logloss: 0.989928\n",
            "Training until validation scores don't improve for 50 rounds\n",
            "Early stopping, best iteration is:\n",
            "[69]\tvalid_0's multi_logloss: 1.10118\n",
            "Training until validation scores don't improve for 50 rounds\n",
            "Early stopping, best iteration is:\n",
            "[71]\tvalid_0's multi_logloss: 0.924326\n",
            "Training until validation scores don't improve for 50 rounds\n"
          ]
        },
        {
          "output_type": "stream",
          "name": "stderr",
          "text": [
            "[I 2025-07-15 06:01:28,934] Trial 26 finished with value: 0.267770640719669 and parameters: {'learning_rate': 0.017850396247628783, 'n_estimators': 1530, 'num_leaves': 47, 'max_depth': 12, 'min_child_samples': 37, 'feature_fraction': 0.8651439554912527, 'bagging_fraction': 0.9454557978608009, 'lambda_l1': 1.0309954726159872e-05, 'lambda_l2': 0.001010157839761245}. Best is trial 17 with value: 0.2778145309629403.\n"
          ]
        },
        {
          "output_type": "stream",
          "name": "stdout",
          "text": [
            "Early stopping, best iteration is:\n",
            "[54]\tvalid_0's multi_logloss: 1.05727\n",
            "Training until validation scores don't improve for 50 rounds\n",
            "Early stopping, best iteration is:\n",
            "[22]\tvalid_0's multi_logloss: 1.05734\n",
            "Training until validation scores don't improve for 50 rounds\n",
            "Early stopping, best iteration is:\n",
            "[21]\tvalid_0's multi_logloss: 0.99648\n",
            "Training until validation scores don't improve for 50 rounds\n",
            "Early stopping, best iteration is:\n",
            "[190]\tvalid_0's multi_logloss: 1.1008\n",
            "Training until validation scores don't improve for 50 rounds\n",
            "Early stopping, best iteration is:\n",
            "[22]\tvalid_0's multi_logloss: 0.937816\n",
            "Training until validation scores don't improve for 50 rounds\n",
            "Early stopping, best iteration is:\n",
            "[101]\tvalid_0's multi_logloss: 1.06133\n",
            "Training until validation scores don't improve for 50 rounds\n"
          ]
        },
        {
          "output_type": "stream",
          "name": "stderr",
          "text": [
            "[I 2025-07-15 06:01:31,082] Trial 27 finished with value: 0.2545372206669899 and parameters: {'learning_rate': 0.006519071990428296, 'n_estimators': 1782, 'num_leaves': 39, 'max_depth': 10, 'min_child_samples': 21, 'feature_fraction': 0.7936829243807543, 'bagging_fraction': 0.8668719546683409, 'lambda_l1': 5.359976819952886e-07, 'lambda_l2': 0.0003207258119469046}. Best is trial 17 with value: 0.2778145309629403.\n"
          ]
        },
        {
          "output_type": "stream",
          "name": "stdout",
          "text": [
            "Early stopping, best iteration is:\n",
            "[60]\tvalid_0's multi_logloss: 1.05723\n",
            "Training until validation scores don't improve for 50 rounds\n",
            "Early stopping, best iteration is:\n",
            "[21]\tvalid_0's multi_logloss: 0.993817\n",
            "Training until validation scores don't improve for 50 rounds\n",
            "Early stopping, best iteration is:\n",
            "[75]\tvalid_0's multi_logloss: 1.12414\n",
            "Training until validation scores don't improve for 50 rounds\n",
            "Early stopping, best iteration is:\n",
            "[31]\tvalid_0's multi_logloss: 0.940541\n",
            "Training until validation scores don't improve for 50 rounds\n"
          ]
        },
        {
          "output_type": "stream",
          "name": "stderr",
          "text": [
            "[I 2025-07-15 06:01:31,731] Trial 28 finished with value: 0.23064427693254735 and parameters: {'learning_rate': 0.016353068689033863, 'n_estimators': 1602, 'num_leaves': 63, 'max_depth': 9, 'min_child_samples': 76, 'feature_fraction': 0.870436989934617, 'bagging_fraction': 0.9465867476872073, 'lambda_l1': 3.344718127336743e-05, 'lambda_l2': 0.0026615824290840934}. Best is trial 17 with value: 0.2778145309629403.\n"
          ]
        },
        {
          "output_type": "stream",
          "name": "stdout",
          "text": [
            "Early stopping, best iteration is:\n",
            "[38]\tvalid_0's multi_logloss: 1.05715\n",
            "Training until validation scores don't improve for 50 rounds\n",
            "Early stopping, best iteration is:\n",
            "[28]\tvalid_0's multi_logloss: 1.0576\n",
            "Training until validation scores don't improve for 50 rounds\n",
            "Early stopping, best iteration is:\n",
            "[19]\tvalid_0's multi_logloss: 0.994359\n",
            "Training until validation scores don't improve for 50 rounds\n",
            "Early stopping, best iteration is:\n",
            "[117]\tvalid_0's multi_logloss: 1.10312\n",
            "Training until validation scores don't improve for 50 rounds\n",
            "Early stopping, best iteration is:\n",
            "[40]\tvalid_0's multi_logloss: 0.937365\n",
            "Training until validation scores don't improve for 50 rounds\n",
            "Early stopping, best iteration is:\n",
            "[105]\tvalid_0's multi_logloss: 1.05515\n",
            "Training until validation scores don't improve for 50 rounds\n"
          ]
        },
        {
          "output_type": "stream",
          "name": "stderr",
          "text": [
            "[I 2025-07-15 06:01:33,595] Trial 29 finished with value: 0.2447676210246937 and parameters: {'learning_rate': 0.006461119795502397, 'n_estimators': 1818, 'num_leaves': 97, 'max_depth': 7, 'min_child_samples': 25, 'feature_fraction': 0.956450445671441, 'bagging_fraction': 0.8379613978265043, 'lambda_l1': 4.22956386139514e-06, 'lambda_l2': 0.0004572677659118813}. Best is trial 17 with value: 0.2778145309629403.\n"
          ]
        },
        {
          "output_type": "stream",
          "name": "stdout",
          "text": [
            "Early stopping, best iteration is:\n",
            "[59]\tvalid_0's multi_logloss: 1.06159\n",
            "Training until validation scores don't improve for 50 rounds\n",
            "Early stopping, best iteration is:\n",
            "[25]\tvalid_0's multi_logloss: 0.995405\n",
            "Training until validation scores don't improve for 50 rounds\n",
            "Early stopping, best iteration is:\n",
            "[128]\tvalid_0's multi_logloss: 1.11435\n",
            "Training until validation scores don't improve for 50 rounds\n",
            "Early stopping, best iteration is:\n",
            "[41]\tvalid_0's multi_logloss: 0.931056\n",
            "Training until validation scores don't improve for 50 rounds\n",
            "Early stopping, best iteration is:\n",
            "[1]\tvalid_0's multi_logloss: 1.06899\n",
            "Training until validation scores don't improve for 50 rounds\n",
            "Early stopping, best iteration is:\n",
            "[59]\tvalid_0's multi_logloss: 1.05823\n"
          ]
        },
        {
          "output_type": "stream",
          "name": "stderr",
          "text": [
            "[I 2025-07-15 06:01:34,568] Trial 30 finished with value: 0.251704066694579 and parameters: {'learning_rate': 0.009120410877028556, 'n_estimators': 1004, 'num_leaves': 104, 'max_depth': 12, 'min_child_samples': 37, 'feature_fraction': 0.7920412162542352, 'bagging_fraction': 0.7842511136330415, 'lambda_l1': 6.998398982925509e-07, 'lambda_l2': 5.792575789635785e-05}. Best is trial 17 with value: 0.2778145309629403.\n"
          ]
        },
        {
          "output_type": "stream",
          "name": "stdout",
          "text": [
            "Training until validation scores don't improve for 50 rounds\n",
            "Early stopping, best iteration is:\n",
            "[11]\tvalid_0's multi_logloss: 0.989871\n",
            "Training until validation scores don't improve for 50 rounds\n",
            "Early stopping, best iteration is:\n",
            "[78]\tvalid_0's multi_logloss: 1.11994\n",
            "Training until validation scores don't improve for 50 rounds\n",
            "Early stopping, best iteration is:\n",
            "[56]\tvalid_0's multi_logloss: 0.934963\n",
            "Training until validation scores don't improve for 50 rounds\n",
            "Early stopping, best iteration is:\n",
            "[54]\tvalid_0's multi_logloss: 1.05145\n",
            "Training until validation scores don't improve for 50 rounds\n"
          ]
        },
        {
          "output_type": "stream",
          "name": "stderr",
          "text": [
            "[I 2025-07-15 06:01:35,566] Trial 31 finished with value: 0.2757869041271909 and parameters: {'learning_rate': 0.02178305031860036, 'n_estimators': 1903, 'num_leaves': 83, 'max_depth': 9, 'min_child_samples': 47, 'feature_fraction': 0.9243364019616949, 'bagging_fraction': 0.9045268201129434, 'lambda_l1': 4.825088899762764e-08, 'lambda_l2': 7.805072198456114e-06}. Best is trial 17 with value: 0.2778145309629403.\n"
          ]
        },
        {
          "output_type": "stream",
          "name": "stdout",
          "text": [
            "Early stopping, best iteration is:\n",
            "[47]\tvalid_0's multi_logloss: 1.05632\n",
            "Training until validation scores don't improve for 50 rounds\n",
            "Early stopping, best iteration is:\n",
            "[10]\tvalid_0's multi_logloss: 0.985334\n",
            "Training until validation scores don't improve for 50 rounds\n",
            "Early stopping, best iteration is:\n",
            "[42]\tvalid_0's multi_logloss: 1.12121\n",
            "Training until validation scores don't improve for 50 rounds\n",
            "Early stopping, best iteration is:\n",
            "[24]\tvalid_0's multi_logloss: 0.942326\n",
            "Training until validation scores don't improve for 50 rounds\n"
          ]
        },
        {
          "output_type": "stream",
          "name": "stderr",
          "text": [
            "[I 2025-07-15 06:01:36,259] Trial 32 finished with value: 0.2522459742860358 and parameters: {'learning_rate': 0.024949708444905676, 'n_estimators': 1736, 'num_leaves': 73, 'max_depth': 9, 'min_child_samples': 63, 'feature_fraction': 0.9188178962474071, 'bagging_fraction': 0.9050072244481937, 'lambda_l1': 3.996610283283543e-08, 'lambda_l2': 5.364995335630481e-06}. Best is trial 17 with value: 0.2778145309629403.\n"
          ]
        },
        {
          "output_type": "stream",
          "name": "stdout",
          "text": [
            "Early stopping, best iteration is:\n",
            "[44]\tvalid_0's multi_logloss: 1.05447\n",
            "Training until validation scores don't improve for 50 rounds\n",
            "Early stopping, best iteration is:\n",
            "[33]\tvalid_0's multi_logloss: 1.05698\n",
            "Training until validation scores don't improve for 50 rounds\n",
            "Early stopping, best iteration is:\n",
            "[17]\tvalid_0's multi_logloss: 0.989003\n",
            "Training until validation scores don't improve for 50 rounds\n",
            "Early stopping, best iteration is:\n",
            "[75]\tvalid_0's multi_logloss: 1.10947\n",
            "Training until validation scores don't improve for 50 rounds\n",
            "Early stopping, best iteration is:\n",
            "[33]\tvalid_0's multi_logloss: 0.933849\n",
            "Training until validation scores don't improve for 50 rounds\n",
            "Early stopping, best iteration is:\n",
            "[85]\tvalid_0's multi_logloss: 1.04546\n",
            "Training until validation scores don't improve for 50 rounds\n"
          ]
        },
        {
          "output_type": "stream",
          "name": "stderr",
          "text": [
            "[I 2025-07-15 06:01:37,381] Trial 33 finished with value: 0.26850487282650903 and parameters: {'learning_rate': 0.013695060285077956, 'n_estimators': 1871, 'num_leaves': 62, 'max_depth': 7, 'min_child_samples': 49, 'feature_fraction': 0.9441422413044417, 'bagging_fraction': 0.9611295456188722, 'lambda_l1': 3.3003354440112255e-07, 'lambda_l2': 0.0001979930497324205}. Best is trial 17 with value: 0.2778145309629403.\n"
          ]
        },
        {
          "output_type": "stream",
          "name": "stdout",
          "text": [
            "Early stopping, best iteration is:\n",
            "[38]\tvalid_0's multi_logloss: 1.05318\n",
            "Training until validation scores don't improve for 50 rounds\n",
            "Early stopping, best iteration is:\n",
            "[29]\tvalid_0's multi_logloss: 0.989738\n",
            "Training until validation scores don't improve for 50 rounds\n",
            "Early stopping, best iteration is:\n",
            "[109]\tvalid_0's multi_logloss: 1.12176\n",
            "Training until validation scores don't improve for 50 rounds\n",
            "Early stopping, best iteration is:\n",
            "[56]\tvalid_0's multi_logloss: 0.929152\n",
            "Training until validation scores don't improve for 50 rounds\n",
            "Early stopping, best iteration is:\n",
            "[115]\tvalid_0's multi_logloss: 1.05277\n",
            "Training until validation scores don't improve for 50 rounds\n"
          ]
        },
        {
          "output_type": "stream",
          "name": "stderr",
          "text": [
            "[I 2025-07-15 06:01:39,028] Trial 34 finished with value: 0.23729776901903205 and parameters: {'learning_rate': 0.00881847682547366, 'n_estimators': 1417, 'num_leaves': 83, 'max_depth': 4, 'min_child_samples': 57, 'feature_fraction': 0.8810774771175703, 'bagging_fraction': 0.9189275319149905, 'lambda_l1': 0.0002726942852859264, 'lambda_l2': 0.002310449339366206}. Best is trial 17 with value: 0.2778145309629403.\n"
          ]
        },
        {
          "output_type": "stream",
          "name": "stdout",
          "text": [
            "Early stopping, best iteration is:\n",
            "[52]\tvalid_0's multi_logloss: 1.05906\n",
            "Training until validation scores don't improve for 50 rounds\n",
            "Early stopping, best iteration is:\n",
            "[7]\tvalid_0's multi_logloss: 0.992753\n",
            "Training until validation scores don't improve for 50 rounds\n",
            "Early stopping, best iteration is:\n",
            "[79]\tvalid_0's multi_logloss: 1.11284\n",
            "Training until validation scores don't improve for 50 rounds\n",
            "Early stopping, best iteration is:\n",
            "[26]\tvalid_0's multi_logloss: 0.938022\n",
            "Training until validation scores don't improve for 50 rounds\n",
            "Early stopping, best iteration is:\n",
            "[55]\tvalid_0's multi_logloss: 1.05844\n",
            "Training until validation scores don't improve for 50 rounds\n"
          ]
        },
        {
          "output_type": "stream",
          "name": "stderr",
          "text": [
            "[I 2025-07-15 06:01:40,842] Trial 35 finished with value: 0.2729144608660408 and parameters: {'learning_rate': 0.018847721932466015, 'n_estimators': 1252, 'num_leaves': 42, 'max_depth': 10, 'min_child_samples': 34, 'feature_fraction': 0.8499963227374324, 'bagging_fraction': 0.8792683465557862, 'lambda_l1': 2.6478549181668215e-07, 'lambda_l2': 1.5832467768397056e-05}. Best is trial 17 with value: 0.2778145309629403.\n"
          ]
        },
        {
          "output_type": "stream",
          "name": "stdout",
          "text": [
            "Early stopping, best iteration is:\n",
            "[55]\tvalid_0's multi_logloss: 1.05989\n",
            "Training until validation scores don't improve for 50 rounds\n",
            "Early stopping, best iteration is:\n",
            "[11]\tvalid_0's multi_logloss: 0.990472\n",
            "Training until validation scores don't improve for 50 rounds\n",
            "Early stopping, best iteration is:\n",
            "[79]\tvalid_0's multi_logloss: 1.11388\n",
            "Training until validation scores don't improve for 50 rounds\n",
            "Early stopping, best iteration is:\n",
            "[33]\tvalid_0's multi_logloss: 0.937525\n",
            "Training until validation scores don't improve for 50 rounds\n",
            "Early stopping, best iteration is:\n",
            "[83]\tvalid_0's multi_logloss: 1.06154\n"
          ]
        },
        {
          "output_type": "stream",
          "name": "stderr",
          "text": [
            "[I 2025-07-15 06:01:41,995] Trial 36 finished with value: 0.2401855614511586 and parameters: {'learning_rate': 0.012514493625364156, 'n_estimators': 1681, 'num_leaves': 128, 'max_depth': 12, 'min_child_samples': 47, 'feature_fraction': 0.9493859494038505, 'bagging_fraction': 0.7866613974602152, 'lambda_l1': 1.4790722672530774e-06, 'lambda_l2': 7.01814964154353e-08}. Best is trial 17 with value: 0.2778145309629403.\n"
          ]
        },
        {
          "output_type": "stream",
          "name": "stdout",
          "text": [
            "Training until validation scores don't improve for 50 rounds\n",
            "Early stopping, best iteration is:\n",
            "[59]\tvalid_0's multi_logloss: 1.05799\n",
            "Training until validation scores don't improve for 50 rounds\n",
            "Early stopping, best iteration is:\n",
            "[14]\tvalid_0's multi_logloss: 0.986076\n",
            "Training until validation scores don't improve for 50 rounds\n",
            "Early stopping, best iteration is:\n",
            "[34]\tvalid_0's multi_logloss: 1.11685\n",
            "Training until validation scores don't improve for 50 rounds\n",
            "Early stopping, best iteration is:\n",
            "[18]\tvalid_0's multi_logloss: 0.940568\n",
            "Training until validation scores don't improve for 50 rounds\n"
          ]
        },
        {
          "output_type": "stream",
          "name": "stderr",
          "text": [
            "[I 2025-07-15 06:01:42,634] Trial 37 finished with value: 0.25375929079020565 and parameters: {'learning_rate': 0.03926993863931305, 'n_estimators': 1572, 'num_leaves': 64, 'max_depth': 11, 'min_child_samples': 53, 'feature_fraction': 0.8297201422128478, 'bagging_fraction': 0.8404758759840608, 'lambda_l1': 0.0019233847903242893, 'lambda_l2': 2.4128746759322685e-06}. Best is trial 17 with value: 0.2778145309629403.\n"
          ]
        },
        {
          "output_type": "stream",
          "name": "stdout",
          "text": [
            "Early stopping, best iteration is:\n",
            "[27]\tvalid_0's multi_logloss: 1.06384\n",
            "Training until validation scores don't improve for 50 rounds\n",
            "Early stopping, best iteration is:\n",
            "[23]\tvalid_0's multi_logloss: 1.04286\n",
            "Training until validation scores don't improve for 50 rounds\n",
            "Early stopping, best iteration is:\n",
            "[52]\tvalid_0's multi_logloss: 0.992379\n",
            "Training until validation scores don't improve for 50 rounds\n",
            "Early stopping, best iteration is:\n",
            "[295]\tvalid_0's multi_logloss: 1.12417\n",
            "Training until validation scores don't improve for 50 rounds\n",
            "Early stopping, best iteration is:\n",
            "[56]\tvalid_0's multi_logloss: 0.940915\n",
            "Training until validation scores don't improve for 50 rounds\n",
            "Early stopping, best iteration is:\n",
            "[257]\tvalid_0's multi_logloss: 1.05363\n",
            "Training until validation scores don't improve for 50 rounds\n"
          ]
        },
        {
          "output_type": "stream",
          "name": "stderr",
          "text": [
            "[I 2025-07-15 06:01:43,958] Trial 38 finished with value: 0.24676194283269287 and parameters: {'learning_rate': 0.0044868921510714185, 'n_estimators': 1997, 'num_leaves': 104, 'max_depth': 8, 'min_child_samples': 79, 'feature_fraction': 0.9783512329408696, 'bagging_fraction': 0.9666002173817909, 'lambda_l1': 1.1168306129406537e-08, 'lambda_l2': 0.11227099535704102}. Best is trial 17 with value: 0.2778145309629403.\n"
          ]
        },
        {
          "output_type": "stream",
          "name": "stdout",
          "text": [
            "Early stopping, best iteration is:\n",
            "[122]\tvalid_0's multi_logloss: 1.06146\n",
            "Training until validation scores don't improve for 50 rounds\n",
            "Early stopping, best iteration is:\n",
            "[96]\tvalid_0's multi_logloss: 0.995605\n",
            "Training until validation scores don't improve for 50 rounds\n",
            "Early stopping, best iteration is:\n",
            "[541]\tvalid_0's multi_logloss: 1.10609\n",
            "Training until validation scores don't improve for 50 rounds\n",
            "Early stopping, best iteration is:\n",
            "[192]\tvalid_0's multi_logloss: 0.938163\n",
            "Training until validation scores don't improve for 50 rounds\n",
            "Early stopping, best iteration is:\n",
            "[152]\tvalid_0's multi_logloss: 1.06603\n",
            "Training until validation scores don't improve for 50 rounds\n"
          ]
        },
        {
          "output_type": "stream",
          "name": "stderr",
          "text": [
            "[I 2025-07-15 06:01:46,999] Trial 39 finished with value: 0.24803372969090867 and parameters: {'learning_rate': 0.0016046163691535022, 'n_estimators': 1887, 'num_leaves': 55, 'max_depth': 6, 'min_child_samples': 40, 'feature_fraction': 0.8985109793924978, 'bagging_fraction': 0.9011449529284337, 'lambda_l1': 4.2090621952218185e-08, 'lambda_l2': 0.00013815107284056104}. Best is trial 17 with value: 0.2778145309629403.\n"
          ]
        },
        {
          "output_type": "stream",
          "name": "stdout",
          "text": [
            "Early stopping, best iteration is:\n",
            "[265]\tvalid_0's multi_logloss: 1.05934\n",
            "Training until validation scores don't improve for 50 rounds\n",
            "Early stopping, best iteration is:\n",
            "[26]\tvalid_0's multi_logloss: 0.994622\n",
            "Training until validation scores don't improve for 50 rounds\n",
            "Early stopping, best iteration is:\n",
            "[164]\tvalid_0's multi_logloss: 1.12017\n",
            "Training until validation scores don't improve for 50 rounds\n",
            "Early stopping, best iteration is:\n",
            "[1]\tvalid_0's multi_logloss: 0.944169\n",
            "Training until validation scores don't improve for 50 rounds\n",
            "Early stopping, best iteration is:\n",
            "[1]\tvalid_0's multi_logloss: 1.06853\n",
            "Training until validation scores don't improve for 50 rounds\n"
          ]
        },
        {
          "output_type": "stream",
          "name": "stderr",
          "text": [
            "[I 2025-07-15 06:01:47,659] Trial 40 finished with value: 0.22840567533477577 and parameters: {'learning_rate': 0.010728445837201624, 'n_estimators': 1729, 'num_leaves': 31, 'max_depth': 9, 'min_child_samples': 60, 'feature_fraction': 0.9285689353851532, 'bagging_fraction': 0.7046146855974785, 'lambda_l1': 0.00047764536280011266, 'lambda_l2': 3.196097230277768e-07}. Best is trial 17 with value: 0.2778145309629403.\n"
          ]
        },
        {
          "output_type": "stream",
          "name": "stdout",
          "text": [
            "Early stopping, best iteration is:\n",
            "[56]\tvalid_0's multi_logloss: 1.05882\n",
            "Training until validation scores don't improve for 50 rounds\n",
            "Early stopping, best iteration is:\n",
            "[16]\tvalid_0's multi_logloss: 0.989925\n",
            "Training until validation scores don't improve for 50 rounds\n",
            "Early stopping, best iteration is:\n",
            "[51]\tvalid_0's multi_logloss: 1.1004\n",
            "Training until validation scores don't improve for 50 rounds\n",
            "Early stopping, best iteration is:\n",
            "[31]\tvalid_0's multi_logloss: 0.919937\n",
            "Training until validation scores don't improve for 50 rounds\n"
          ]
        },
        {
          "output_type": "stream",
          "name": "stderr",
          "text": [
            "[I 2025-07-15 06:01:48,525] Trial 41 finished with value: 0.26977931212926526 and parameters: {'learning_rate': 0.022253889824533805, 'n_estimators': 1891, 'num_leaves': 92, 'max_depth': 9, 'min_child_samples': 44, 'feature_fraction': 0.9106564562127872, 'bagging_fraction': 0.996908461155884, 'lambda_l1': 4.842864249495634e-08, 'lambda_l2': 2.041957045404464e-05}. Best is trial 17 with value: 0.2778145309629403.\n"
          ]
        },
        {
          "output_type": "stream",
          "name": "stdout",
          "text": [
            "Early stopping, best iteration is:\n",
            "[19]\tvalid_0's multi_logloss: 1.05739\n",
            "Training until validation scores don't improve for 50 rounds\n",
            "Early stopping, best iteration is:\n",
            "[17]\tvalid_0's multi_logloss: 1.05191\n",
            "Training until validation scores don't improve for 50 rounds\n",
            "Early stopping, best iteration is:\n",
            "[11]\tvalid_0's multi_logloss: 0.987889\n",
            "Training until validation scores don't improve for 50 rounds\n",
            "Early stopping, best iteration is:\n",
            "[38]\tvalid_0's multi_logloss: 1.1085\n",
            "Training until validation scores don't improve for 50 rounds\n",
            "Early stopping, best iteration is:\n",
            "[33]\tvalid_0's multi_logloss: 0.919056\n",
            "Training until validation scores don't improve for 50 rounds\n",
            "Early stopping, best iteration is:\n",
            "[32]\tvalid_0's multi_logloss: 1.04681\n",
            "Training until validation scores don't improve for 50 rounds\n"
          ]
        },
        {
          "output_type": "stream",
          "name": "stderr",
          "text": [
            "[I 2025-07-15 06:01:49,461] Trial 42 finished with value: 0.296882748547924 and parameters: {'learning_rate': 0.03321773057185262, 'n_estimators': 1906, 'num_leaves': 76, 'max_depth': 10, 'min_child_samples': 40, 'feature_fraction': 0.8680228585512397, 'bagging_fraction': 0.962532214674366, 'lambda_l1': 1.7553771207297671e-07, 'lambda_l2': 5.8157760202452475e-06}. Best is trial 42 with value: 0.296882748547924.\n"
          ]
        },
        {
          "output_type": "stream",
          "name": "stdout",
          "text": [
            "Early stopping, best iteration is:\n",
            "[12]\tvalid_0's multi_logloss: 1.05306\n",
            "Training until validation scores don't improve for 50 rounds\n",
            "Early stopping, best iteration is:\n",
            "[10]\tvalid_0's multi_logloss: 0.990119\n",
            "Training until validation scores don't improve for 50 rounds\n",
            "Early stopping, best iteration is:\n",
            "[40]\tvalid_0's multi_logloss: 1.09328\n",
            "Training until validation scores don't improve for 50 rounds\n",
            "Early stopping, best iteration is:\n",
            "[32]\tvalid_0's multi_logloss: 0.918025\n",
            "Training until validation scores don't improve for 50 rounds\n",
            "Early stopping, best iteration is:\n",
            "[37]\tvalid_0's multi_logloss: 1.05649\n",
            "Training until validation scores don't improve for 50 rounds\n"
          ]
        },
        {
          "output_type": "stream",
          "name": "stderr",
          "text": [
            "[I 2025-07-15 06:01:50,889] Trial 43 finished with value: 0.32154391415222566 and parameters: {'learning_rate': 0.031210467684503692, 'n_estimators': 1844, 'num_leaves': 111, 'max_depth': 10, 'min_child_samples': 24, 'feature_fraction': 0.8607774087084128, 'bagging_fraction': 0.9528107567217783, 'lambda_l1': 2.3544320150487808e-07, 'lambda_l2': 6.188074795110383e-06}. Best is trial 43 with value: 0.32154391415222566.\n"
          ]
        },
        {
          "output_type": "stream",
          "name": "stdout",
          "text": [
            "Early stopping, best iteration is:\n",
            "[17]\tvalid_0's multi_logloss: 1.05904\n",
            "Training until validation scores don't improve for 50 rounds\n",
            "Early stopping, best iteration is:\n",
            "[1]\tvalid_0's multi_logloss: 0.994006\n",
            "Training until validation scores don't improve for 50 rounds\n",
            "Early stopping, best iteration is:\n",
            "[11]\tvalid_0's multi_logloss: 1.106\n",
            "Training until validation scores don't improve for 50 rounds\n",
            "Early stopping, best iteration is:\n",
            "[17]\tvalid_0's multi_logloss: 0.925632\n",
            "Training until validation scores don't improve for 50 rounds\n",
            "Early stopping, best iteration is:\n",
            "[29]\tvalid_0's multi_logloss: 1.03987\n",
            "Training until validation scores don't improve for 50 rounds\n"
          ]
        },
        {
          "output_type": "stream",
          "name": "stderr",
          "text": [
            "[I 2025-07-15 06:01:52,277] Trial 44 finished with value: 0.25404458286811227 and parameters: {'learning_rate': 0.03713721217520636, 'n_estimators': 1463, 'num_leaves': 114, 'max_depth': 10, 'min_child_samples': 25, 'feature_fraction': 0.8551083740663239, 'bagging_fraction': 0.9568174478251452, 'lambda_l1': 2.0889876354391724e-07, 'lambda_l2': 2.1186055723695662e-06}. Best is trial 43 with value: 0.32154391415222566.\n"
          ]
        },
        {
          "output_type": "stream",
          "name": "stdout",
          "text": [
            "Early stopping, best iteration is:\n",
            "[13]\tvalid_0's multi_logloss: 1.0645\n",
            "Training until validation scores don't improve for 50 rounds\n",
            "Early stopping, best iteration is:\n",
            "[9]\tvalid_0's multi_logloss: 0.990433\n",
            "Training until validation scores don't improve for 50 rounds\n",
            "Early stopping, best iteration is:\n",
            "[34]\tvalid_0's multi_logloss: 1.09723\n",
            "Training until validation scores don't improve for 50 rounds\n",
            "Early stopping, best iteration is:\n",
            "[35]\tvalid_0's multi_logloss: 0.924224\n",
            "Training until validation scores don't improve for 50 rounds\n",
            "Early stopping, best iteration is:\n",
            "[51]\tvalid_0's multi_logloss: 1.06401\n",
            "Training until validation scores don't improve for 50 rounds\n"
          ]
        },
        {
          "output_type": "stream",
          "name": "stderr",
          "text": [
            "[I 2025-07-15 06:01:53,933] Trial 45 finished with value: 0.2729919797474152 and parameters: {'learning_rate': 0.028857686783087082, 'n_estimators': 1829, 'num_leaves': 143, 'max_depth': 11, 'min_child_samples': 32, 'feature_fraction': 0.8022332957860605, 'bagging_fraction': 0.9271798412471786, 'lambda_l1': 1.0800334911990992e-06, 'lambda_l2': 7.151709501551455e-05}. Best is trial 43 with value: 0.32154391415222566.\n"
          ]
        },
        {
          "output_type": "stream",
          "name": "stdout",
          "text": [
            "Early stopping, best iteration is:\n",
            "[29]\tvalid_0's multi_logloss: 1.05999\n",
            "Training until validation scores don't improve for 50 rounds\n",
            "Early stopping, best iteration is:\n",
            "[7]\tvalid_0's multi_logloss: 0.999568\n",
            "Training until validation scores don't improve for 50 rounds\n",
            "Early stopping, best iteration is:\n",
            "[15]\tvalid_0's multi_logloss: 1.11984\n",
            "Training until validation scores don't improve for 50 rounds\n",
            "Early stopping, best iteration is:\n",
            "[1]\tvalid_0's multi_logloss: 0.941385\n",
            "Training until validation scores don't improve for 50 rounds\n",
            "Early stopping, best iteration is:\n",
            "[19]\tvalid_0's multi_logloss: 1.03251\n",
            "Training until validation scores don't improve for 50 rounds\n"
          ]
        },
        {
          "output_type": "stream",
          "name": "stderr",
          "text": [
            "[I 2025-07-15 06:01:55,881] Trial 46 finished with value: 0.264238705099024 and parameters: {'learning_rate': 0.04659983321218617, 'n_estimators': 1120, 'num_leaves': 162, 'max_depth': 11, 'min_child_samples': 20, 'feature_fraction': 0.7715170127318624, 'bagging_fraction': 0.9693030547297146, 'lambda_l1': 3.916940417794468e-06, 'lambda_l2': 0.00042116037914661055}. Best is trial 43 with value: 0.32154391415222566.\n"
          ]
        },
        {
          "output_type": "stream",
          "name": "stdout",
          "text": [
            "Early stopping, best iteration is:\n",
            "[6]\tvalid_0's multi_logloss: 1.06773\n",
            "Training until validation scores don't improve for 50 rounds\n",
            "Early stopping, best iteration is:\n",
            "[4]\tvalid_0's multi_logloss: 0.992042\n",
            "Training until validation scores don't improve for 50 rounds\n",
            "Early stopping, best iteration is:\n",
            "[20]\tvalid_0's multi_logloss: 1.11476\n",
            "Training until validation scores don't improve for 50 rounds\n",
            "Early stopping, best iteration is:\n",
            "[1]\tvalid_0's multi_logloss: 0.944583\n",
            "Training until validation scores don't improve for 50 rounds\n",
            "Early stopping, best iteration is:\n",
            "[26]\tvalid_0's multi_logloss: 1.06695\n",
            "Training until validation scores don't improve for 50 rounds\n"
          ]
        },
        {
          "output_type": "stream",
          "name": "stderr",
          "text": [
            "[I 2025-07-15 06:01:57,953] Trial 47 finished with value: 0.22647019772025856 and parameters: {'learning_rate': 0.034911116423370234, 'n_estimators': 1659, 'num_leaves': 111, 'max_depth': 12, 'min_child_samples': 11, 'feature_fraction': 0.8810259102307066, 'bagging_fraction': 0.8782207029209299, 'lambda_l1': 1.0635679801836924e-05, 'lambda_l2': 0.0071794759873538665}. Best is trial 43 with value: 0.32154391415222566.\n"
          ]
        },
        {
          "output_type": "stream",
          "name": "stdout",
          "text": [
            "Early stopping, best iteration is:\n",
            "[4]\tvalid_0's multi_logloss: 1.06451\n",
            "Training until validation scores don't improve for 50 rounds\n",
            "Early stopping, best iteration is:\n",
            "[6]\tvalid_0's multi_logloss: 0.997299\n",
            "Training until validation scores don't improve for 50 rounds\n",
            "Early stopping, best iteration is:\n",
            "[69]\tvalid_0's multi_logloss: 1.10426\n",
            "Training until validation scores don't improve for 50 rounds\n",
            "Early stopping, best iteration is:\n",
            "[31]\tvalid_0's multi_logloss: 0.929729\n",
            "Training until validation scores don't improve for 50 rounds\n",
            "Early stopping, best iteration is:\n",
            "[66]\tvalid_0's multi_logloss: 1.05667\n",
            "Training until validation scores don't improve for 50 rounds\n"
          ]
        },
        {
          "output_type": "stream",
          "name": "stderr",
          "text": [
            "[I 2025-07-15 06:01:59,205] Trial 48 finished with value: 0.2645183689937077 and parameters: {'learning_rate': 0.014955056772962085, 'n_estimators': 414, 'num_leaves': 72, 'max_depth': 10, 'min_child_samples': 29, 'feature_fraction': 0.7199750373229584, 'bagging_fraction': 0.9454551248107452, 'lambda_l1': 2.5133609473214864e-08, 'lambda_l2': 4.11318116377443e-05}. Best is trial 43 with value: 0.32154391415222566.\n"
          ]
        },
        {
          "output_type": "stream",
          "name": "stdout",
          "text": [
            "Early stopping, best iteration is:\n",
            "[33]\tvalid_0's multi_logloss: 1.06172\n",
            "Training until validation scores don't improve for 50 rounds\n",
            "Early stopping, best iteration is:\n",
            "[25]\tvalid_0's multi_logloss: 0.996868\n",
            "Training until validation scores don't improve for 50 rounds\n",
            "Early stopping, best iteration is:\n",
            "[295]\tvalid_0's multi_logloss: 1.12166\n",
            "Training until validation scores don't improve for 50 rounds\n",
            "Early stopping, best iteration is:\n",
            "[6]\tvalid_0's multi_logloss: 0.944389\n",
            "Training until validation scores don't improve for 50 rounds\n",
            "Early stopping, best iteration is:\n",
            "[1]\tvalid_0's multi_logloss: 1.06819\n",
            "Training until validation scores don't improve for 50 rounds\n"
          ]
        },
        {
          "output_type": "stream",
          "name": "stderr",
          "text": [
            "[I 2025-07-15 06:02:00,291] Trial 49 finished with value: 0.21923945563102717 and parameters: {'learning_rate': 0.0025872036842086053, 'n_estimators': 1575, 'num_leaves': 52, 'max_depth': 8, 'min_child_samples': 37, 'feature_fraction': 0.8449210418927889, 'bagging_fraction': 0.6259067228046181, 'lambda_l1': 0.008476909868682833, 'lambda_l2': 7.277510153383529e-07}. Best is trial 43 with value: 0.32154391415222566.\n"
          ]
        },
        {
          "output_type": "stream",
          "name": "stdout",
          "text": [
            "Early stopping, best iteration is:\n",
            "[143]\tvalid_0's multi_logloss: 1.06675\n",
            "Best CV F1 (S1): 0.32154391415222566\n",
            "Best params (S1): {'learning_rate': 0.031210467684503692, 'n_estimators': 1844, 'num_leaves': 111, 'max_depth': 10, 'min_child_samples': 24, 'feature_fraction': 0.8607774087084128, 'bagging_fraction': 0.9528107567217783, 'lambda_l1': 2.3544320150487808e-07, 'lambda_l2': 6.188074795110383e-06}\n"
          ]
        },
        {
          "output_type": "display_data",
          "data": {
            "text/plain": [
              "<Figure size 1000x1000 with 1 Axes>"
            ],
            "image/png": "[encoded data removed]"
          },
          "metadata": {}
        }
      ]
    },
    {
      "cell_type": "code",
      "source": [],
      "metadata": {
        "id": "8BKByR2BppiV"
      },
      "execution_count": null,
      "outputs": []
    },
    {
      "cell_type": "code",
      "source": [
        "from sklearn.model_selection import cross_validate, GroupKFold\n",
        "from sklearn.metrics       import make_scorer, f1_score\n",
        "from lightgbm              import LGBMClassifier\n",
        "\n",
        "# 3-1) CV 평가용 Classifier & 설정\n",
        "clf = LGBMClassifier(**best_params)\n",
        "cv  = GroupKFold(n_splits=5)\n",
        "scoring = make_scorer(f1_score, average='macro')\n",
        "\n",
        "# 3-2) cross_validate 실행 (train/validation 모두 계산)\n",
        "cv_results = cross_validate(\n",
        "    clf,\n",
        "    X, y_multi,\n",
        "    groups=groups,\n",
        "    cv=cv,\n",
        "    scoring=scoring,\n",
        "    return_train_score=True,\n",
        "    n_jobs=-1\n",
        ")\n",
        "\n",
        "# 3-3) Fold별 점수 & 평균·표준편차 출력\n",
        "train_scores = cv_results['train_score']\n",
        "val_scores   = cv_results['test_score']\n",
        "\n",
        "print(\"Fold별 Train F1 :\", train_scores)\n",
        "print(\"Fold별 Val   F1 :\", val_scores)\n",
        "print(f\"Mean±Std Train F1: {train_scores.mean():.4f} ± {train_scores.std():.4f}\")\n",
        "print(f\"Mean±Std Val   F1: {val_scores.mean():.4f} ± {val_scores.std():.4f}\")\n"
      ],
      "metadata": {
        "colab": {
          "base_uri": "https://localhost:8080/"
        },
        "id": "la3Uq-EXl-XH",
        "outputId": "f3c5c174-f3ce-492c-8a9f-7faa63c8b7cd"
      },
      "execution_count": 36,
      "outputs": [
        {
          "output_type": "stream",
          "name": "stdout",
          "text": [
            "Fold별 Train F1 : [1. 1. 1. 1. 1.]\n",
            "Fold별 Val   F1 : [0.32258574 0.25929934 0.3164147  0.27314815 0.33868093]\n",
            "Mean±Std Train F1: 1.0000 ± 0.0000\n",
            "Mean±Std Val   F1: 0.3020 ± 0.0304\n"
          ]
        }
      ]
    },
    {
      "cell_type": "code",
      "source": [
        "# sample 기반 제출 포맷 가져오기\n",
        "submission_final = sample_submission[['subject_id', 'sleep_date', 'lifelog_date']].copy()\n",
        "\n",
        "# lifelog_date 기준으로 string → date 형식 통일\n",
        "submission_final['lifelog_date'] = pd.to_datetime(submission_final['lifelog_date']).dt.date\n",
        "\n",
        "# ID 만들기 (submission에서 예측한 결과와 연결하기 위해)\n",
        "submission_final['ID'] = submission_final['subject_id'] + '_' + submission_final['lifelog_date'].astype(str)\n",
        "\n",
        "# 예측 결과 연결할 수 있도록 동일한 순서로 정렬\n",
        "# 보통 예측 결과는 test_df 기준이므로 정렬 보장되어야 함\n",
        "assert len(submission_final) == len(multiclass_pred)  # shape 체크\n",
        "\n",
        "# 다중 분류 예측 붙이기\n",
        "submission_final['S1'] = multiclass_pred\n",
        "\n",
        "# 이진 분류 결과 붙이기\n",
        "for col in ['Q1', 'Q2', 'Q3', 'S2', 'S3']:\n",
        "    submission_final[col] = binary_preds[col].astype(int)  # 확률 아닌 class 예측\n",
        "\n",
        "# 최종 제출 형식 정렬\n",
        "submission_final = submission_final[['subject_id', 'sleep_date', 'lifelog_date', 'Q1', 'Q2', 'Q3', 'S1', 'S2', 'S3']]\n",
        "\n",
        "# 저장\n",
        "submission_final.to_csv(\"submission_final.csv\", index=False)\n",
        "\n",
        "from google.colab import files\n",
        "files.download(\"submission_final.csv\")"
      ],
      "metadata": {
        "colab": {
          "base_uri": "https://localhost:8080/",
          "height": 17
        },
        "id": "oQ7h8rOd1H6o",
        "outputId": "a0062023-696a-4933-d9c4-66c65c60f794"
      },
      "execution_count": 37,
      "outputs": [
        {
          "output_type": "display_data",
          "data": {
            "text/plain": [
              "<IPython.core.display.Javascript object>"
            ],
            "application/javascript": [
              "\n",
              "    async function download(id, filename, size) {\n",
              "      if (!google.colab.kernel.accessAllowed) {\n",
              "        return;\n",
              "      }\n",
              "      const div = document.createElement('div');\n",
              "      const label = document.createElement('label');\n",
              "      label.textContent = `Downloading \"${filename}\": `;\n",
              "      div.appendChild(label);\n",
              "      const progress = document.createElement('progress');\n",
              "      progress.max = size;\n",
              "      div.appendChild(progress);\n",
              "      document.body.appendChild(div);\n",
              "\n",
              "      const buffers = [];\n",
              "      let downloaded = 0;\n",
              "\n",
              "      const channel = await google.colab.kernel.comms.open(id);\n",
              "      // Send a message to notify the kernel that we're ready.\n",
              "      channel.send({})\n",
              "\n",
              "      for await (const message of channel.messages) {\n",
              "        // Send a message to notify the kernel that we're ready.\n",
              "        channel.send({})\n",
              "        if (message.buffers) {\n",
              "          for (const buffer of message.buffers) {\n",
              "            buffers.push(buffer);\n",
              "            downloaded += buffer.byteLength;\n",
              "            progress.value = downloaded;\n",
              "          }\n",
              "        }\n",
              "      }\n",
              "      const blob = new Blob(buffers, {type: 'application/binary'});\n",
              "      const a = document.createElement('a');\n",
              "      a.href = window.URL.createObjectURL(blob);\n",
              "      a.download = filename;\n",
              "      div.appendChild(a);\n",
              "      a.click();\n",
              "      div.remove();\n",
              "    }\n",
              "  "
            ]
          },
          "metadata": {}
        },
        {
          "output_type": "display_data",
          "data": {
            "text/plain": [
              "<IPython.core.display.Javascript object>"
            ],
            "application/javascript": [
              "download(\"download_8521fec5-a17d-48cc-9a43-ac4ffa8526e9\", \"submission_final.csv\", 9803)"
            ]
          },
          "metadata": {}
        }
      ]
    }
  ]
}